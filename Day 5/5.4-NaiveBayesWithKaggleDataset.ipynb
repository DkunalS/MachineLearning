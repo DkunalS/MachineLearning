{
 "cells": [
  {
   "cell_type": "code",
   "execution_count": 26,
   "id": "f1c6f7e2-a212-41a8-8cd1-7e02023991fb",
   "metadata": {},
   "outputs": [],
   "source": [
    "import pandas as pd\n",
    "import numpy as np\n",
    "from sklearn.compose import make_column_transformer, make_column_selector\n",
    "from sklearn.preprocessing import StandardScaler\n",
    "from sklearn.preprocessing import OneHotEncoder\n",
    "from sklearn.model_selection import train_test_split\n",
    "from sklearn.metrics import log_loss, accuracy_score, classification_report, roc_auc_score\n",
    "import matplotlib.pyplot as plt\n",
    "from sklearn.model_selection import StratifiedKFold, GridSearchCV, KFold\n",
    "from sklearn.linear_model import LinearRegression, ElasticNet\n",
    "from sklearn.naive_bayes import BernoulliNB, GaussianNB\n",
    "from sklearn.pipeline import Pipeline\n",
    "import os \n",
    "import warnings\n",
    "warnings.filterwarnings('ignore')"
   ]
  },
  {
   "cell_type": "markdown",
   "id": "cc280e55-ffc5-46de-90a6-4bfd48e3b76f",
   "metadata": {},
   "source": [
    "# On CancerDataSet"
   ]
  },
  {
   "cell_type": "code",
   "execution_count": 27,
   "id": "04f71331-435b-496c-aeab-a8873a490070",
   "metadata": {},
   "outputs": [],
   "source": [
    "cancer = pd.read_csv('Cancer.csv',index_col=0)"
   ]
  },
  {
   "cell_type": "code",
   "execution_count": 28,
   "id": "57738eac-ea71-4201-94cd-6769161bd256",
   "metadata": {},
   "outputs": [],
   "source": [
    "X = cancer.drop(columns='Class')\n",
    "y = cancer.Class"
   ]
  },
  {
   "cell_type": "code",
   "execution_count": 29,
   "id": "b7c9dcda-4081-448e-a5a8-70e34216d88e",
   "metadata": {},
   "outputs": [],
   "source": [
    "X_train, X_test, y_train, y_test = train_test_split(X,y,random_state=24,test_size=0.3, stratify=y)\n"
   ]
  },
  {
   "cell_type": "code",
   "execution_count": 30,
   "id": "31f2e424-3da3-472e-8239-1ad86a023166",
   "metadata": {},
   "outputs": [
    {
     "name": "stdout",
     "output_type": "stream",
     "text": [
      "                      precision    recall  f1-score   support\n",
      "\n",
      "no-recurrence-events       0.80      0.78      0.79        60\n",
      "   recurrence-events       0.52      0.54      0.53        26\n",
      "\n",
      "            accuracy                           0.71        86\n",
      "           macro avg       0.66      0.66      0.66        86\n",
      "        weighted avg       0.71      0.71      0.71        86\n",
      "\n"
     ]
    }
   ],
   "source": [
    "ohe = OneHotEncoder(sparse_output=False, handle_unknown='ignore').set_output(transform='pandas')\n",
    "# BernoulliNB is used for the All categorical data and in this dataset all are categorical data\n",
    "nb = BernoulliNB()\n",
    "pipe = Pipeline([('OHE',ohe), ('NB', nb)])\n",
    "pipe.fit(X_train,y_train)\n",
    "y_pred = pipe.predict(X_test)\n",
    "print(classification_report(y_test, y_pred))"
   ]
  },
  {
   "cell_type": "code",
   "execution_count": 14,
   "id": "21bbe0bb-61c7-4941-9ce5-e31d12e69109",
   "metadata": {},
   "outputs": [
    {
     "name": "stdout",
     "output_type": "stream",
     "text": [
      "0.75\n"
     ]
    }
   ],
   "source": [
    "y_pred_prob = pipe.predict_proba(X_test)[:,1]\n",
    "print(roc_auc_score(y_test, y_pred_prob))"
   ]
  },
  {
   "cell_type": "markdown",
   "id": "33259f1e-7722-4a85-8317-6222148f2d35",
   "metadata": {},
   "source": [
    "## Using K fold with ROC_AUC"
   ]
  },
  {
   "cell_type": "code",
   "execution_count": 22,
   "id": "6ab15d11-1c84-474d-8697-9960ede73757",
   "metadata": {
    "scrolled": true
   },
   "outputs": [
    {
     "name": "stdout",
     "output_type": "stream",
     "text": [
      "Fitting 5 folds for each of 10 candidates, totalling 50 fits\n",
      "[CV 1/5] END ...................NB__alpha=0.001;, score=0.737 total time=   0.0s\n",
      "[CV 2/5] END ...................NB__alpha=0.001;, score=0.668 total time=   0.0s\n",
      "[CV 3/5] END ...................NB__alpha=0.001;, score=0.714 total time=   0.0s\n",
      "[CV 4/5] END ...................NB__alpha=0.001;, score=0.574 total time=   0.0s\n",
      "[CV 5/5] END ...................NB__alpha=0.001;, score=0.716 total time=   0.0s\n",
      "[CV 1/5] END .....NB__alpha=0.33422222222222225;, score=0.735 total time=   0.0s\n",
      "[CV 2/5] END .....NB__alpha=0.33422222222222225;, score=0.656 total time=   0.0s\n",
      "[CV 3/5] END .....NB__alpha=0.33422222222222225;, score=0.782 total time=   0.0s\n",
      "[CV 4/5] END .....NB__alpha=0.33422222222222225;, score=0.617 total time=   0.0s\n",
      "[CV 5/5] END .....NB__alpha=0.33422222222222225;, score=0.718 total time=   0.0s\n",
      "[CV 1/5] END ......NB__alpha=0.6674444444444445;, score=0.730 total time=   0.0s\n",
      "[CV 2/5] END ......NB__alpha=0.6674444444444445;, score=0.652 total time=   0.0s\n",
      "[CV 3/5] END ......NB__alpha=0.6674444444444445;, score=0.792 total time=   0.0s\n",
      "[CV 4/5] END ......NB__alpha=0.6674444444444445;, score=0.628 total time=   0.0s\n",
      "[CV 5/5] END ......NB__alpha=0.6674444444444445;, score=0.716 total time=   0.0s\n",
      "[CV 1/5] END ......NB__alpha=1.0006666666666666;, score=0.721 total time=   0.0s\n",
      "[CV 2/5] END ......NB__alpha=1.0006666666666666;, score=0.649 total time=   0.0s\n",
      "[CV 3/5] END ......NB__alpha=1.0006666666666666;, score=0.802 total time=   0.0s\n",
      "[CV 4/5] END ......NB__alpha=1.0006666666666666;, score=0.642 total time=   0.0s\n",
      "[CV 5/5] END ......NB__alpha=1.0006666666666666;, score=0.714 total time=   0.0s\n",
      "[CV 1/5] END .......NB__alpha=1.333888888888889;, score=0.719 total time=   0.0s\n",
      "[CV 2/5] END .......NB__alpha=1.333888888888889;, score=0.644 total time=   0.0s\n",
      "[CV 3/5] END .......NB__alpha=1.333888888888889;, score=0.804 total time=   0.0s\n",
      "[CV 4/5] END .......NB__alpha=1.333888888888889;, score=0.650 total time=   0.0s\n",
      "[CV 5/5] END .......NB__alpha=1.333888888888889;, score=0.714 total time=   0.0s\n",
      "[CV 1/5] END ......NB__alpha=1.6671111111111112;, score=0.717 total time=   0.0s\n",
      "[CV 2/5] END ......NB__alpha=1.6671111111111112;, score=0.647 total time=   0.0s\n",
      "[CV 3/5] END ......NB__alpha=1.6671111111111112;, score=0.803 total time=   0.0s\n",
      "[CV 4/5] END ......NB__alpha=1.6671111111111112;, score=0.652 total time=   0.0s\n",
      "[CV 5/5] END ......NB__alpha=1.6671111111111112;, score=0.712 total time=   0.0s\n",
      "[CV 1/5] END ......NB__alpha=2.0003333333333333;, score=0.717 total time=   0.0s\n",
      "[CV 2/5] END ......NB__alpha=2.0003333333333333;, score=0.647 total time=   0.0s\n",
      "[CV 3/5] END ......NB__alpha=2.0003333333333333;, score=0.804 total time=   0.0s\n",
      "[CV 4/5] END ......NB__alpha=2.0003333333333333;, score=0.658 total time=   0.0s\n",
      "[CV 5/5] END ......NB__alpha=2.0003333333333333;, score=0.713 total time=   0.0s\n",
      "[CV 1/5] END .......NB__alpha=2.333555555555556;, score=0.714 total time=   0.0s\n",
      "[CV 2/5] END .......NB__alpha=2.333555555555556;, score=0.646 total time=   0.0s\n",
      "[CV 3/5] END .......NB__alpha=2.333555555555556;, score=0.808 total time=   0.0s\n",
      "[CV 4/5] END .......NB__alpha=2.333555555555556;, score=0.661 total time=   0.0s\n",
      "[CV 5/5] END .......NB__alpha=2.333555555555556;, score=0.713 total time=   0.0s\n",
      "[CV 1/5] END .......NB__alpha=2.666777777777778;, score=0.712 total time=   0.0s\n",
      "[CV 2/5] END .......NB__alpha=2.666777777777778;, score=0.646 total time=   0.0s\n",
      "[CV 3/5] END .......NB__alpha=2.666777777777778;, score=0.808 total time=   0.0s\n",
      "[CV 4/5] END .......NB__alpha=2.666777777777778;, score=0.660 total time=   0.0s\n",
      "[CV 5/5] END .......NB__alpha=2.666777777777778;, score=0.713 total time=   0.0s\n",
      "[CV 1/5] END .....................NB__alpha=3.0;, score=0.712 total time=   0.0s\n",
      "[CV 2/5] END .....................NB__alpha=3.0;, score=0.646 total time=   0.0s\n",
      "[CV 3/5] END .....................NB__alpha=3.0;, score=0.808 total time=   0.0s\n",
      "[CV 4/5] END .....................NB__alpha=3.0;, score=0.661 total time=   0.0s\n",
      "[CV 5/5] END .....................NB__alpha=3.0;, score=0.713 total time=   0.0s\n",
      "Best Parameters:  {'NB__alpha': np.float64(2.333555555555556)}\n",
      "Best Score:  0.7083995329422159\n"
     ]
    }
   ],
   "source": [
    "kfold = KFold(n_splits=5, random_state=24, \n",
    "                        shuffle=True)\n",
    "params = {'NB__alpha': np.linspace(0.001,3,10)}\n",
    "\n",
    "gcv = GridSearchCV(pipe, param_grid=params,\n",
    "                   scoring='roc_auc',          \n",
    "                   cv=kfold, verbose=3)\n",
    "# With GridSearchCV we not need train_test_split so fit on the X and y\n",
    "gcv.fit(X,y)\n",
    "print(\"Best Parameters: \",gcv.best_params_)\n",
    "print(\"Best Score: \",gcv.best_score_)"
   ]
  },
  {
   "cell_type": "code",
   "execution_count": 49,
   "id": "74b360fb-0b6a-4aab-8a5d-09101ed5f8b6",
   "metadata": {},
   "outputs": [
    {
     "name": "stdout",
     "output_type": "stream",
     "text": [
      "              precision    recall  f1-score   support\n",
      "\n",
      "           0       0.98      0.52      0.68      3429\n",
      "           1       0.39      0.97      0.55      1070\n",
      "\n",
      "    accuracy                           0.63      4499\n",
      "   macro avg       0.68      0.74      0.62      4499\n",
      "weighted avg       0.84      0.63      0.65      4499\n",
      "\n"
     ]
    }
   ],
   "source": [
    "y_pred = pipe.predict(X_test)\n",
    "print(classification_report(y_test, y_pred))"
   ]
  },
  {
   "cell_type": "markdown",
   "id": "814124f5-e9fa-424c-8a33-a8445e58822e",
   "metadata": {},
   "source": [
    "# On HR DataSet"
   ]
  },
  {
   "cell_type": "code",
   "execution_count": 39,
   "id": "492c6a8a-b56b-4f40-b328-870ba1217b6f",
   "metadata": {},
   "outputs": [],
   "source": [
    "hr = pd.read_csv('HR_comma_sep.csv',index_col=0)"
   ]
  },
  {
   "cell_type": "code",
   "execution_count": 40,
   "id": "69ae044d-692f-4676-9e25-b98fc5d23519",
   "metadata": {},
   "outputs": [],
   "source": [
    "X = hr.drop(columns='left')\n",
    "y = hr.left"
   ]
  },
  {
   "cell_type": "code",
   "execution_count": 41,
   "id": "5e0186f9-6a0d-4ae9-9caa-2f80ac2dd338",
   "metadata": {},
   "outputs": [],
   "source": [
    "X_train, X_test, y_train, y_test = train_test_split(X,y,random_state=24,test_size=0.3, stratify=y)\n"
   ]
  },
  {
   "cell_type": "code",
   "execution_count": 42,
   "id": "fae2dd38-5d68-4140-b8a2-26edbd7a7e2c",
   "metadata": {},
   "outputs": [],
   "source": [
    "# Here we are using the discrete naive bayes' type\n"
   ]
  },
  {
   "cell_type": "code",
   "execution_count": 46,
   "id": "d3d2a15b-e72b-4cae-8e27-55c968b05b0e",
   "metadata": {},
   "outputs": [
    {
     "name": "stdout",
     "output_type": "stream",
     "text": [
      "              precision    recall  f1-score   support\n",
      "\n",
      "           0       0.98      0.52      0.68      3429\n",
      "           1       0.39      0.97      0.55      1070\n",
      "\n",
      "    accuracy                           0.63      4499\n",
      "   macro avg       0.68      0.74      0.62      4499\n",
      "weighted avg       0.84      0.63      0.65      4499\n",
      "\n"
     ]
    },
    {
     "data": {
      "text/plain": [
       "{'memory': None,\n",
       " 'steps': [('OHE',\n",
       "   OneHotEncoder(handle_unknown='ignore', sparse_output=False)),\n",
       "  ('GNB', GaussianNB())],\n",
       " 'verbose': False,\n",
       " 'OHE': OneHotEncoder(handle_unknown='ignore', sparse_output=False),\n",
       " 'GNB': GaussianNB(),\n",
       " 'OHE__categories': 'auto',\n",
       " 'OHE__drop': None,\n",
       " 'OHE__dtype': numpy.float64,\n",
       " 'OHE__feature_name_combiner': 'concat',\n",
       " 'OHE__handle_unknown': 'ignore',\n",
       " 'OHE__max_categories': None,\n",
       " 'OHE__min_frequency': None,\n",
       " 'OHE__sparse_output': False,\n",
       " 'GNB__priors': None,\n",
       " 'GNB__var_smoothing': 1e-09}"
      ]
     },
     "execution_count": 46,
     "metadata": {},
     "output_type": "execute_result"
    }
   ],
   "source": [
    "ohe = OneHotEncoder(sparse_output=False, handle_unknown='ignore').set_output(transform='pandas')\n",
    "# GaussianNB is used for the All Numerical data \n",
    "gnb = GaussianNB()\n",
    "pipe = Pipeline([('OHE',ohe), ('GNB', gnb)])\n",
    "pipe.fit(X_train,y_train)\n",
    "y_pred = pipe.predict(X_test)\n",
    "print(classification_report(y_test, y_pred))\n",
    "pipe.get_params()"
   ]
  },
  {
   "cell_type": "code",
   "execution_count": 47,
   "id": "47eabf36-5ddc-4eae-be5b-63e70908a2bc",
   "metadata": {},
   "outputs": [
    {
     "name": "stdout",
     "output_type": "stream",
     "text": [
      "0.7478715082733038\n"
     ]
    }
   ],
   "source": [
    "y_pred_prob = pipe.predict_proba(X_test)[:,1]\n",
    "print(roc_auc_score(y_test, y_pred_prob))"
   ]
  },
  {
   "cell_type": "markdown",
   "id": "5571f344-7316-45df-acea-7fe33aa89772",
   "metadata": {},
   "source": [
    "## Using K fold with ROC_AUC"
   ]
  },
  {
   "cell_type": "code",
   "execution_count": 48,
   "id": "72a091fd-a3c6-4fe0-8dcd-33db3a183741",
   "metadata": {
    "scrolled": true
   },
   "outputs": [
    {
     "name": "stdout",
     "output_type": "stream",
     "text": [
      "Fitting 5 folds for each of 10 candidates, totalling 50 fits\n",
      "[CV 1/5] END ..........GNB__var_smoothing=0.001;, score=0.835 total time=   0.1s\n",
      "[CV 2/5] END ..........GNB__var_smoothing=0.001;, score=0.845 total time=   0.0s\n",
      "[CV 3/5] END ..........GNB__var_smoothing=0.001;, score=0.836 total time=   0.0s\n",
      "[CV 4/5] END ..........GNB__var_smoothing=0.001;, score=0.843 total time=   0.0s\n",
      "[CV 5/5] END ..........GNB__var_smoothing=0.001;, score=0.836 total time=   0.0s\n",
      "[CV 1/5] END GNB__var_smoothing=0.33422222222222225;, score=0.935 total time=   0.0s\n",
      "[CV 2/5] END GNB__var_smoothing=0.33422222222222225;, score=0.944 total time=   0.0s\n",
      "[CV 3/5] END GNB__var_smoothing=0.33422222222222225;, score=0.944 total time=   0.0s\n",
      "[CV 4/5] END GNB__var_smoothing=0.33422222222222225;, score=0.946 total time=   0.0s\n",
      "[CV 5/5] END GNB__var_smoothing=0.33422222222222225;, score=0.938 total time=   0.0s\n",
      "[CV 1/5] END GNB__var_smoothing=0.6674444444444445;, score=0.926 total time=   0.0s\n",
      "[CV 2/5] END GNB__var_smoothing=0.6674444444444445;, score=0.934 total time=   0.0s\n",
      "[CV 3/5] END GNB__var_smoothing=0.6674444444444445;, score=0.937 total time=   0.0s\n",
      "[CV 4/5] END GNB__var_smoothing=0.6674444444444445;, score=0.936 total time=   0.0s\n",
      "[CV 5/5] END GNB__var_smoothing=0.6674444444444445;, score=0.931 total time=   0.0s\n",
      "[CV 1/5] END GNB__var_smoothing=1.0006666666666666;, score=0.922 total time=   0.0s\n",
      "[CV 2/5] END GNB__var_smoothing=1.0006666666666666;, score=0.928 total time=   0.0s\n",
      "[CV 3/5] END GNB__var_smoothing=1.0006666666666666;, score=0.932 total time=   0.0s\n",
      "[CV 4/5] END GNB__var_smoothing=1.0006666666666666;, score=0.930 total time=   0.0s\n",
      "[CV 5/5] END GNB__var_smoothing=1.0006666666666666;, score=0.927 total time=   0.0s\n",
      "[CV 1/5] END GNB__var_smoothing=1.333888888888889;, score=0.919 total time=   0.0s\n",
      "[CV 2/5] END GNB__var_smoothing=1.333888888888889;, score=0.925 total time=   0.0s\n",
      "[CV 3/5] END GNB__var_smoothing=1.333888888888889;, score=0.930 total time=   0.0s\n",
      "[CV 4/5] END GNB__var_smoothing=1.333888888888889;, score=0.926 total time=   0.0s\n",
      "[CV 5/5] END GNB__var_smoothing=1.333888888888889;, score=0.925 total time=   0.0s\n",
      "[CV 1/5] END GNB__var_smoothing=1.6671111111111112;, score=0.917 total time=   0.0s\n",
      "[CV 2/5] END GNB__var_smoothing=1.6671111111111112;, score=0.923 total time=   0.0s\n",
      "[CV 3/5] END GNB__var_smoothing=1.6671111111111112;, score=0.928 total time=   0.0s\n",
      "[CV 4/5] END GNB__var_smoothing=1.6671111111111112;, score=0.924 total time=   0.0s\n",
      "[CV 5/5] END GNB__var_smoothing=1.6671111111111112;, score=0.923 total time=   0.0s\n",
      "[CV 1/5] END GNB__var_smoothing=2.0003333333333333;, score=0.915 total time=   0.0s\n",
      "[CV 2/5] END GNB__var_smoothing=2.0003333333333333;, score=0.921 total time=   0.0s\n",
      "[CV 3/5] END GNB__var_smoothing=2.0003333333333333;, score=0.927 total time=   0.0s\n",
      "[CV 4/5] END GNB__var_smoothing=2.0003333333333333;, score=0.922 total time=   0.0s\n",
      "[CV 5/5] END GNB__var_smoothing=2.0003333333333333;, score=0.922 total time=   0.0s\n",
      "[CV 1/5] END GNB__var_smoothing=2.333555555555556;, score=0.914 total time=   0.0s\n",
      "[CV 2/5] END GNB__var_smoothing=2.333555555555556;, score=0.920 total time=   0.0s\n",
      "[CV 3/5] END GNB__var_smoothing=2.333555555555556;, score=0.926 total time=   0.0s\n",
      "[CV 4/5] END GNB__var_smoothing=2.333555555555556;, score=0.921 total time=   0.0s\n",
      "[CV 5/5] END GNB__var_smoothing=2.333555555555556;, score=0.921 total time=   0.0s\n",
      "[CV 1/5] END GNB__var_smoothing=2.666777777777778;, score=0.913 total time=   0.0s\n",
      "[CV 2/5] END GNB__var_smoothing=2.666777777777778;, score=0.919 total time=   0.0s\n",
      "[CV 3/5] END GNB__var_smoothing=2.666777777777778;, score=0.925 total time=   0.0s\n",
      "[CV 4/5] END GNB__var_smoothing=2.666777777777778;, score=0.919 total time=   0.0s\n",
      "[CV 5/5] END GNB__var_smoothing=2.666777777777778;, score=0.921 total time=   0.0s\n",
      "[CV 1/5] END ............GNB__var_smoothing=3.0;, score=0.912 total time=   0.0s\n",
      "[CV 2/5] END ............GNB__var_smoothing=3.0;, score=0.918 total time=   0.0s\n",
      "[CV 3/5] END ............GNB__var_smoothing=3.0;, score=0.924 total time=   0.0s\n",
      "[CV 4/5] END ............GNB__var_smoothing=3.0;, score=0.918 total time=   0.0s\n",
      "[CV 5/5] END ............GNB__var_smoothing=3.0;, score=0.920 total time=   0.0s\n",
      "Best Parameters:  {'GNB__var_smoothing': np.float64(0.33422222222222225)}\n",
      "Best Score:  0.9414485043501056\n"
     ]
    }
   ],
   "source": [
    "kfold = KFold(n_splits=5, random_state=24, \n",
    "                        shuffle=True)\n",
    "params = {'GNB__var_smoothing': np.linspace(0.001,3,10)}\n",
    "\n",
    "gcv = GridSearchCV(pipe, param_grid=params,\n",
    "                   scoring='roc_auc',          \n",
    "                   cv=kfold, verbose=3)\n",
    "# With GridSearchCV we not need train_test_split so fit on the X and y\n",
    "gcv.fit(X,y)\n",
    "print(\"Best Parameters: \",gcv.best_params_)\n",
    "print(\"Best Score: \",gcv.best_score_)"
   ]
  }
 ],
 "metadata": {
  "kernelspec": {
   "display_name": "Python 3 (ipykernel)",
   "language": "python",
   "name": "python3"
  },
  "language_info": {
   "codemirror_mode": {
    "name": "ipython",
    "version": 3
   },
   "file_extension": ".py",
   "mimetype": "text/x-python",
   "name": "python",
   "nbconvert_exporter": "python",
   "pygments_lexer": "ipython3",
   "version": "3.12.7"
  }
 },
 "nbformat": 4,
 "nbformat_minor": 5
}
