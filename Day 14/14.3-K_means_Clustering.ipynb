{
 "cells": [
  {
   "cell_type": "markdown",
   "id": "d59d4385-912d-4b5b-a2f1-83f6bd9d8266",
   "metadata": {},
   "source": [
    "- Do this until your centroid position does not changes"
   ]
  },
  {
   "cell_type": "code",
   "execution_count": 19,
   "id": "3538894a-987d-49e9-af9e-4caebabf8a35",
   "metadata": {},
   "outputs": [],
   "source": [
    "from sklearn.cluster import KMeans\n",
    "\n",
    "from scipy.cluster.hierarchy import linkage, dendrogram\n",
    "from sklearn.preprocessing import StandardScaler\n",
    "from sklearn.metrics import silhouette_score\n",
    "\n",
    "import pandas as pd \n",
    "import numpy as np\n",
    "import matplotlib.pyplot as plt \n",
    "import warnings \n",
    "warnings.filterwarnings('ignore')"
   ]
  },
  {
   "cell_type": "code",
   "execution_count": 57,
   "id": "56f19960-0da1-4086-aa63-bf876c02a237",
   "metadata": {},
   "outputs": [
    {
     "data": {
      "text/html": [
       "<div>\n",
       "<style scoped>\n",
       "    .dataframe tbody tr th:only-of-type {\n",
       "        vertical-align: middle;\n",
       "    }\n",
       "\n",
       "    .dataframe tbody tr th {\n",
       "        vertical-align: top;\n",
       "    }\n",
       "\n",
       "    .dataframe thead th {\n",
       "        text-align: right;\n",
       "    }\n",
       "</style>\n",
       "<table border=\"1\" class=\"dataframe\">\n",
       "  <thead>\n",
       "    <tr style=\"text-align: right;\">\n",
       "      <th></th>\n",
       "      <th>water</th>\n",
       "      <th>protein</th>\n",
       "      <th>fat</th>\n",
       "      <th>lactose</th>\n",
       "      <th>ash</th>\n",
       "    </tr>\n",
       "    <tr>\n",
       "      <th>Animal</th>\n",
       "      <th></th>\n",
       "      <th></th>\n",
       "      <th></th>\n",
       "      <th></th>\n",
       "      <th></th>\n",
       "    </tr>\n",
       "  </thead>\n",
       "  <tbody>\n",
       "    <tr>\n",
       "      <th>HORSE</th>\n",
       "      <td>90.1</td>\n",
       "      <td>2.6</td>\n",
       "      <td>1.0</td>\n",
       "      <td>6.9</td>\n",
       "      <td>0.35</td>\n",
       "    </tr>\n",
       "    <tr>\n",
       "      <th>ORANGUTAN</th>\n",
       "      <td>88.5</td>\n",
       "      <td>1.4</td>\n",
       "      <td>3.5</td>\n",
       "      <td>6.0</td>\n",
       "      <td>0.24</td>\n",
       "    </tr>\n",
       "    <tr>\n",
       "      <th>MONKEY</th>\n",
       "      <td>88.4</td>\n",
       "      <td>2.2</td>\n",
       "      <td>2.7</td>\n",
       "      <td>6.4</td>\n",
       "      <td>0.18</td>\n",
       "    </tr>\n",
       "    <tr>\n",
       "      <th>DONKEY</th>\n",
       "      <td>90.3</td>\n",
       "      <td>1.7</td>\n",
       "      <td>1.4</td>\n",
       "      <td>6.2</td>\n",
       "      <td>0.40</td>\n",
       "    </tr>\n",
       "    <tr>\n",
       "      <th>HIPPO</th>\n",
       "      <td>90.4</td>\n",
       "      <td>0.6</td>\n",
       "      <td>4.5</td>\n",
       "      <td>4.4</td>\n",
       "      <td>0.10</td>\n",
       "    </tr>\n",
       "  </tbody>\n",
       "</table>\n",
       "</div>"
      ],
      "text/plain": [
       "           water  protein  fat  lactose   ash\n",
       "Animal                                       \n",
       "HORSE       90.1      2.6  1.0      6.9  0.35\n",
       "ORANGUTAN   88.5      1.4  3.5      6.0  0.24\n",
       "MONKEY      88.4      2.2  2.7      6.4  0.18\n",
       "DONKEY      90.3      1.7  1.4      6.2  0.40\n",
       "HIPPO       90.4      0.6  4.5      4.4  0.10"
      ]
     },
     "execution_count": 57,
     "metadata": {},
     "output_type": "execute_result"
    }
   ],
   "source": [
    "milk = pd.read_csv('milk.csv',index_col=0)\n",
    "milk.head()"
   ]
  },
  {
   "cell_type": "code",
   "execution_count": 58,
   "id": "dabdc4b2-ffc1-41fe-9ffd-c6d185a91031",
   "metadata": {},
   "outputs": [],
   "source": [
    "scaler = StandardScaler().set_output(transform='pandas')\n",
    "milk_sclaed = scaler.fit_transform(milk)"
   ]
  },
  {
   "cell_type": "code",
   "execution_count": 59,
   "id": "43bd678b-be86-45b1-8444-6e5e505affc4",
   "metadata": {},
   "outputs": [
    {
     "name": "stdout",
     "output_type": "stream",
     "text": [
      "[0.5258508931703421, 0.48757649189546187, 0.4434805028424465, 0.3942307537498656, 0.3948525867678605]\n",
      "Best No. of Clusters :  2\n",
      "Best score is        :  0.5258508931703421\n"
     ]
    }
   ],
   "source": [
    "score = []\n",
    "n_clust = [2,3,4,5,6]\n",
    "for i in n_clust:\n",
    "    clust = KMeans(n_clusters=i, random_state=24)\n",
    "    clust.fit(milk_sclaed)\n",
    "    score.append(silhouette_score(milk_sclaed, clust.labels_))\n",
    "print(score)\n",
    "\n",
    "i_max = np.argmax(score)                                 # Return the index of best score number\n",
    "print(\"Best No. of Clusters : \", n_clust[i_max] )        # Return the best score number\n",
    "best_score  = np.max(score)                              # Return Best score\n",
    "print(\"Best score is        : \",best_score)"
   ]
  },
  {
   "cell_type": "code",
   "execution_count": 60,
   "id": "6e9c8bb8-7ccf-40ec-aa48-8c76888373d6",
   "metadata": {},
   "outputs": [
    {
     "data": {
      "text/plain": [
       "0.5258508931703421"
      ]
     },
     "execution_count": 60,
     "metadata": {},
     "output_type": "execute_result"
    }
   ],
   "source": [
    "# On The give Best Silouette Score \n",
    "clust = KMeans(n_clusters=2)\n",
    "clust.fit(milk_sclaed)\n",
    "silhouette_score(milk_sclaed, clust.labels_)"
   ]
  },
  {
   "cell_type": "code",
   "execution_count": 61,
   "id": "500231f8-0ed9-44e9-b406-e9acebf25025",
   "metadata": {
    "scrolled": true
   },
   "outputs": [
    {
     "name": "stdout",
     "output_type": "stream",
     "text": [
      "            water  protein   fat  lactose   ash  cluster\n",
      "Animal                                                  \n",
      "DOLPHIN      44.9     10.6  34.9      0.9  0.53        0\n",
      "WHALE        64.8     11.1  21.2      1.6  1.70        0\n",
      "REINDEER     64.8     10.7  20.3      2.5  1.40        0\n",
      "DEER         65.9     10.4  19.7      2.6  1.40        0\n",
      "RAT          72.5      9.2  12.6      3.3  1.40        0\n",
      "RABBIT       71.3     12.3  13.1      1.9  2.30        0\n",
      "DOG          76.3      9.3   9.5      3.0  1.20        0\n",
      "SEAL         46.4      9.7  42.0      0.0  0.85        0\n",
      "ELEPHANT     70.7      3.6  17.6      5.6  0.63        1\n",
      "SHEEP        82.0      5.6   6.4      4.7  0.91        1\n",
      "ZEBRA        86.2      3.0   4.8      5.3  0.70        1\n",
      "PIG          82.8      7.1   5.1      3.7  1.10        1\n",
      "HORSE        90.1      2.6   1.0      6.9  0.35        1\n",
      "FOX          81.6      6.6   5.9      4.9  0.93        1\n",
      "CAT          81.6     10.1   6.3      4.4  0.75        1\n",
      "GUINEA PIG   81.9      7.4   7.2      2.7  0.85        1\n",
      "BUFFALO      82.1      5.9   7.9      4.7  0.78        1\n",
      "BISON        86.9      4.8   1.7      5.7  0.90        1\n",
      "CAMEL        87.7      3.5   3.4      4.8  0.71        1\n",
      "HIPPO        90.4      0.6   4.5      4.4  0.10        1\n",
      "DONKEY       90.3      1.7   1.4      6.2  0.40        1\n",
      "MONKEY       88.4      2.2   2.7      6.4  0.18        1\n",
      "ORANGUTAN    88.5      1.4   3.5      6.0  0.24        1\n",
      "LLAMA        86.5      3.9   3.2      5.6  0.80        1\n",
      "MULE         90.0      2.0   1.8      5.5  0.47        1\n"
     ]
    },
    {
     "data": {
      "text/html": [
       "<div>\n",
       "<style scoped>\n",
       "    .dataframe tbody tr th:only-of-type {\n",
       "        vertical-align: middle;\n",
       "    }\n",
       "\n",
       "    .dataframe tbody tr th {\n",
       "        vertical-align: top;\n",
       "    }\n",
       "\n",
       "    .dataframe thead th {\n",
       "        text-align: right;\n",
       "    }\n",
       "</style>\n",
       "<table border=\"1\" class=\"dataframe\">\n",
       "  <thead>\n",
       "    <tr style=\"text-align: right;\">\n",
       "      <th></th>\n",
       "      <th>water</th>\n",
       "      <th>protein</th>\n",
       "      <th>fat</th>\n",
       "      <th>lactose</th>\n",
       "      <th>ash</th>\n",
       "    </tr>\n",
       "    <tr>\n",
       "      <th>cluster</th>\n",
       "      <th></th>\n",
       "      <th></th>\n",
       "      <th></th>\n",
       "      <th></th>\n",
       "      <th></th>\n",
       "    </tr>\n",
       "  </thead>\n",
       "  <tbody>\n",
       "    <tr>\n",
       "      <th>0</th>\n",
       "      <td>63.362500</td>\n",
       "      <td>10.412500</td>\n",
       "      <td>21.662500</td>\n",
       "      <td>1.975000</td>\n",
       "      <td>1.347500</td>\n",
       "    </tr>\n",
       "    <tr>\n",
       "      <th>1</th>\n",
       "      <td>85.158824</td>\n",
       "      <td>4.235294</td>\n",
       "      <td>4.964706</td>\n",
       "      <td>5.147059</td>\n",
       "      <td>0.635294</td>\n",
       "    </tr>\n",
       "  </tbody>\n",
       "</table>\n",
       "</div>"
      ],
      "text/plain": [
       "             water    protein        fat   lactose       ash\n",
       "cluster                                                     \n",
       "0        63.362500  10.412500  21.662500  1.975000  1.347500\n",
       "1        85.158824   4.235294   4.964706  5.147059  0.635294"
      ]
     },
     "execution_count": 61,
     "metadata": {},
     "output_type": "execute_result"
    }
   ],
   "source": [
    "# Cluster Analysis\n",
    "milk_clust = milk.copy()\n",
    "\n",
    "# adding the cluster label into dataframe\n",
    "milk_clust['cluster'] = clust.labels_\n",
    "\n",
    "# Analysing the individual\n",
    "print(milk_clust.sort_values('cluster'))\n",
    "\n",
    "# calculating the mean on the basis of cluster label\n",
    "milk_clust.groupby('cluster').mean()\n"
   ]
  },
  {
   "cell_type": "markdown",
   "id": "0d0fc10e-c0fb-47e0-9935-0662a375f6b0",
   "metadata": {},
   "source": [
    "# rfm_data_customer Dataset"
   ]
  },
  {
   "cell_type": "code",
   "execution_count": 41,
   "id": "642d1072-1cce-4ba6-ad72-5c3679a177af",
   "metadata": {},
   "outputs": [
    {
     "data": {
      "text/html": [
       "<div>\n",
       "<style scoped>\n",
       "    .dataframe tbody tr th:only-of-type {\n",
       "        vertical-align: middle;\n",
       "    }\n",
       "\n",
       "    .dataframe tbody tr th {\n",
       "        vertical-align: top;\n",
       "    }\n",
       "\n",
       "    .dataframe thead th {\n",
       "        text-align: right;\n",
       "    }\n",
       "</style>\n",
       "<table border=\"1\" class=\"dataframe\">\n",
       "  <thead>\n",
       "    <tr style=\"text-align: right;\">\n",
       "      <th></th>\n",
       "      <th>revenue</th>\n",
       "      <th>number_of_orders</th>\n",
       "      <th>recency_days</th>\n",
       "    </tr>\n",
       "    <tr>\n",
       "      <th>customer_id</th>\n",
       "      <th></th>\n",
       "      <th></th>\n",
       "      <th></th>\n",
       "    </tr>\n",
       "  </thead>\n",
       "  <tbody>\n",
       "    <tr>\n",
       "      <th>22086</th>\n",
       "      <td>777</td>\n",
       "      <td>9</td>\n",
       "      <td>232</td>\n",
       "    </tr>\n",
       "    <tr>\n",
       "      <th>2290</th>\n",
       "      <td>1555</td>\n",
       "      <td>16</td>\n",
       "      <td>115</td>\n",
       "    </tr>\n",
       "    <tr>\n",
       "      <th>26377</th>\n",
       "      <td>336</td>\n",
       "      <td>5</td>\n",
       "      <td>43</td>\n",
       "    </tr>\n",
       "    <tr>\n",
       "      <th>24650</th>\n",
       "      <td>1189</td>\n",
       "      <td>12</td>\n",
       "      <td>64</td>\n",
       "    </tr>\n",
       "    <tr>\n",
       "      <th>12883</th>\n",
       "      <td>1229</td>\n",
       "      <td>12</td>\n",
       "      <td>23</td>\n",
       "    </tr>\n",
       "    <tr>\n",
       "      <th>...</th>\n",
       "      <td>...</td>\n",
       "      <td>...</td>\n",
       "      <td>...</td>\n",
       "    </tr>\n",
       "    <tr>\n",
       "      <th>3249</th>\n",
       "      <td>998</td>\n",
       "      <td>10</td>\n",
       "      <td>31</td>\n",
       "    </tr>\n",
       "    <tr>\n",
       "      <th>6686</th>\n",
       "      <td>771</td>\n",
       "      <td>8</td>\n",
       "      <td>187</td>\n",
       "    </tr>\n",
       "    <tr>\n",
       "      <th>16418</th>\n",
       "      <td>1016</td>\n",
       "      <td>9</td>\n",
       "      <td>154</td>\n",
       "    </tr>\n",
       "    <tr>\n",
       "      <th>9117</th>\n",
       "      <td>678</td>\n",
       "      <td>7</td>\n",
       "      <td>195</td>\n",
       "    </tr>\n",
       "    <tr>\n",
       "      <th>19184</th>\n",
       "      <td>1519</td>\n",
       "      <td>13</td>\n",
       "      <td>113</td>\n",
       "    </tr>\n",
       "  </tbody>\n",
       "</table>\n",
       "<p>39999 rows × 3 columns</p>\n",
       "</div>"
      ],
      "text/plain": [
       "             revenue  number_of_orders  recency_days\n",
       "customer_id                                         \n",
       "22086            777                 9           232\n",
       "2290            1555                16           115\n",
       "26377            336                 5            43\n",
       "24650           1189                12            64\n",
       "12883           1229                12            23\n",
       "...              ...               ...           ...\n",
       "3249             998                10            31\n",
       "6686             771                 8           187\n",
       "16418           1016                 9           154\n",
       "9117             678                 7           195\n",
       "19184           1519                13           113\n",
       "\n",
       "[39999 rows x 3 columns]"
      ]
     },
     "execution_count": 41,
     "metadata": {},
     "output_type": "execute_result"
    }
   ],
   "source": [
    "# recency = the period lapsed since last visit of customer (current date - most recent visit) -drop date \n",
    "# Frequency = how freqent was customer in placing oreder\n",
    "# Monetary = Revenue from that custom\n",
    "\n",
    "rfm = pd.read_csv('rfm_data_customer.csv',index_col=0)\n",
    "rfm.drop(columns='most_recent_visit', inplace=True)\n",
    "rfm"
   ]
  },
  {
   "cell_type": "code",
   "execution_count": 45,
   "id": "dc15ba0a-24f1-4c7b-8dae-e710ceb5b77d",
   "metadata": {},
   "outputs": [],
   "source": [
    "scaler = StandardScaler().set_output(transform='pandas')\n",
    "rfm_sclaed = scaler.fit_transform(rfm)"
   ]
  },
  {
   "cell_type": "code",
   "execution_count": 48,
   "id": "a72cf32d-1502-482f-8631-3d97b7641b84",
   "metadata": {},
   "outputs": [
    {
     "name": "stdout",
     "output_type": "stream",
     "text": [
      "[0.3619175885782477, 0.37102897041720206, 0.3229983236688364, 0.3249751004529168, 0.288058231818753]\n",
      "Best No. of Clusters :  3\n",
      "Best score is        :  0.37102897041720206\n"
     ]
    }
   ],
   "source": [
    "# Finding the best no of clusters\n",
    "score = []\n",
    "n_clust = [2,3,4,5,6]\n",
    "for i in n_clust:\n",
    "    kmean = KMeans(n_clusters=i, random_state=24)\n",
    "    kmean.fit(rfm_sclaed)\n",
    "    score.append(silhouette_score(rfm_sclaed, kmean.labels_))\n",
    "print(score)\n",
    "\n",
    "i_max = np.argmax(score)                                 # Return the index of best score number\n",
    "print(\"Best No. of Clusters : \", n_clust[i_max] )        # Return the best score number\n",
    "best_score  = np.max(score)                              # Return Best score\n",
    "print(\"Best score is        : \",best_score)\n",
    "print(kmean.labels_)"
   ]
  },
  {
   "cell_type": "code",
   "execution_count": 55,
   "id": "a734d514-4dee-4e3a-8ea6-c6059f15ca3b",
   "metadata": {},
   "outputs": [
    {
     "data": {
      "text/plain": [
       "0.37102897041720206"
      ]
     },
     "execution_count": 55,
     "metadata": {},
     "output_type": "execute_result"
    }
   ],
   "source": [
    "# On The give Best Silouette Score \n",
    "clust = KMeans(n_clusters = n_clust[i_max], random_state=24)\n",
    "clust.fit(rfm_sclaed)\n",
    "silhouette_score(rfm_sclaed, clust.labels_)"
   ]
  },
  {
   "cell_type": "code",
   "execution_count": 56,
   "id": "ee7ac51b-2b56-49a5-bafa-505216a14617",
   "metadata": {
    "scrolled": true
   },
   "outputs": [
    {
     "name": "stdout",
     "output_type": "stream",
     "text": [
      "3\n",
      "             revenue  number_of_orders  recency_days  cluster\n",
      "customer_id                                                  \n",
      "19184           1519                13           113        0\n",
      "10386           1193                11           234        0\n",
      "26696            971                12           146        0\n",
      "28572            965                13           163        0\n",
      "12804           1059                12           131        0\n",
      "...              ...               ...           ...      ...\n",
      "11457            554                 4           410        2\n",
      "28289           1084                 9           362        2\n",
      "3054             958                 9           360        2\n",
      "34260           1100                 8           341        2\n",
      "6767             665                 7           340        2\n",
      "\n",
      "[39999 rows x 4 columns]\n"
     ]
    },
    {
     "data": {
      "text/html": [
       "<div>\n",
       "<style scoped>\n",
       "    .dataframe tbody tr th:only-of-type {\n",
       "        vertical-align: middle;\n",
       "    }\n",
       "\n",
       "    .dataframe tbody tr th {\n",
       "        vertical-align: top;\n",
       "    }\n",
       "\n",
       "    .dataframe thead th {\n",
       "        text-align: right;\n",
       "    }\n",
       "</style>\n",
       "<table border=\"1\" class=\"dataframe\">\n",
       "  <thead>\n",
       "    <tr style=\"text-align: right;\">\n",
       "      <th></th>\n",
       "      <th>revenue</th>\n",
       "      <th>number_of_orders</th>\n",
       "      <th>recency_days</th>\n",
       "    </tr>\n",
       "    <tr>\n",
       "      <th>cluster</th>\n",
       "      <th></th>\n",
       "      <th></th>\n",
       "      <th></th>\n",
       "    </tr>\n",
       "  </thead>\n",
       "  <tbody>\n",
       "    <tr>\n",
       "      <th>0</th>\n",
       "      <td>1281.119459</td>\n",
       "      <td>12.909267</td>\n",
       "      <td>133.255123</td>\n",
       "    </tr>\n",
       "    <tr>\n",
       "      <th>1</th>\n",
       "      <td>749.292247</td>\n",
       "      <td>8.227773</td>\n",
       "      <td>136.139784</td>\n",
       "    </tr>\n",
       "    <tr>\n",
       "      <th>2</th>\n",
       "      <td>692.414498</td>\n",
       "      <td>7.351090</td>\n",
       "      <td>416.697185</td>\n",
       "    </tr>\n",
       "  </tbody>\n",
       "</table>\n",
       "</div>"
      ],
      "text/plain": [
       "             revenue  number_of_orders  recency_days\n",
       "cluster                                             \n",
       "0        1281.119459         12.909267    133.255123\n",
       "1         749.292247          8.227773    136.139784\n",
       "2         692.414498          7.351090    416.697185"
      ]
     },
     "execution_count": 56,
     "metadata": {},
     "output_type": "execute_result"
    }
   ],
   "source": [
    "# Cluster Analysis\n",
    "\n",
    "rfm_clust = rfm.copy()\n",
    "\n",
    "# adding the cluster label into dataframe\n",
    "rfm_clust['cluster'] = clust.labels_\n",
    "\n",
    "# Analysing the individual\n",
    "print(rfm_clust.sort_values('cluster'))\n",
    "\n",
    "# calculating the mean on the basis of cluster label\n",
    "rfm_clust.groupby('cluster').mean()\n"
   ]
  },
  {
   "cell_type": "code",
   "execution_count": null,
   "id": "6b1f8ffc-27ca-41c1-b87d-ee4293108079",
   "metadata": {},
   "outputs": [],
   "source": []
  }
 ],
 "metadata": {
  "kernelspec": {
   "display_name": "Python 3 (ipykernel)",
   "language": "python",
   "name": "python3"
  },
  "language_info": {
   "codemirror_mode": {
    "name": "ipython",
    "version": 3
   },
   "file_extension": ".py",
   "mimetype": "text/x-python",
   "name": "python",
   "nbconvert_exporter": "python",
   "pygments_lexer": "ipython3",
   "version": "3.12.7"
  }
 },
 "nbformat": 4,
 "nbformat_minor": 5
}
