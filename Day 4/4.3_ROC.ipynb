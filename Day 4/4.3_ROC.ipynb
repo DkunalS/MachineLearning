{
 "cells": [
  {
   "attachments": {},
   "cell_type": "markdown",
   "id": "ca01d6f2-aa89-4871-930a-6e28f0952eda",
   "metadata": {},
   "source": [
    "- **Reciver Operating Characteristics (ROC)** : Is only Binary Classification\n",
    "  - Sensivity = Recall(1)\n",
    "  - Specificity = Recall(0)"
   ]
  },
  {
   "cell_type": "markdown",
   "id": "7d3f77b8-70cb-40df-bbba-61f938e86594",
   "metadata": {},
   "source": [
    "- `F1-Ratio` : on one threshold\n",
    "- `ROC` & `AUC` : on Two or More threshold"
   ]
  },
  {
   "cell_type": "code",
   "execution_count": 1,
   "id": "0e13f0ac-fb11-402b-b663-1ed184462791",
   "metadata": {},
   "outputs": [],
   "source": [
    "import pandas as pd \n",
    "import numpy as np \n",
    "import matplotlib.pyplot as plt \n",
    "import warnings\n",
    "warnings.filterwarnings('ignore')"
   ]
  },
  {
   "cell_type": "code",
   "execution_count": null,
   "id": "1bbc6ef1-b6aa-496a-bac8-100bc213e666",
   "metadata": {},
   "outputs": [],
   "source": []
  }
 ],
 "metadata": {
  "kernelspec": {
   "display_name": "Python 3 (ipykernel)",
   "language": "python",
   "name": "python3"
  },
  "language_info": {
   "codemirror_mode": {
    "name": "ipython",
    "version": 3
   },
   "file_extension": ".py",
   "mimetype": "text/x-python",
   "name": "python",
   "nbconvert_exporter": "python",
   "pygments_lexer": "ipython3",
   "version": "3.12.7"
  }
 },
 "nbformat": 4,
 "nbformat_minor": 5
}
