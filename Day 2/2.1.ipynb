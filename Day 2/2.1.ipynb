{
 "cells": [
  {
   "cell_type": "code",
   "execution_count": 20,
   "id": "1873adc8-e718-4c61-b0a8-da8d0c89ede2",
   "metadata": {},
   "outputs": [],
   "source": [
    "# 'medv' column is responce variable : y\n",
    "# and other are : x"
   ]
  },
  {
   "cell_type": "code",
   "execution_count": 21,
   "id": "b702e42b-35ac-43c9-bce3-b7d179bdaae7",
   "metadata": {},
   "outputs": [],
   "source": [
    "import pandas as pd \n",
    "import numpy as np \n",
    "from sklearn.linear_model import LinearRegression\n",
    "from sklearn.metrics import r2_score \n",
    "from sklearn.model_selection import train_test_split\n",
    "from sklearn.preprocessing import PolynomialFeatures\n",
    "import matplotlib.pyplot as plt "
   ]
  },
  {
   "cell_type": "code",
   "execution_count": 22,
   "id": "537dceeb-5653-4980-857f-0caaa636e572",
   "metadata": {},
   "outputs": [
    {
     "data": {
      "text/html": [
       "<div>\n",
       "<style scoped>\n",
       "    .dataframe tbody tr th:only-of-type {\n",
       "        vertical-align: middle;\n",
       "    }\n",
       "\n",
       "    .dataframe tbody tr th {\n",
       "        vertical-align: top;\n",
       "    }\n",
       "\n",
       "    .dataframe thead th {\n",
       "        text-align: right;\n",
       "    }\n",
       "</style>\n",
       "<table border=\"1\" class=\"dataframe\">\n",
       "  <thead>\n",
       "    <tr style=\"text-align: right;\">\n",
       "      <th></th>\n",
       "      <th>crim</th>\n",
       "      <th>zn</th>\n",
       "      <th>indus</th>\n",
       "      <th>chas</th>\n",
       "      <th>nox</th>\n",
       "      <th>rm</th>\n",
       "      <th>age</th>\n",
       "      <th>dis</th>\n",
       "      <th>rad</th>\n",
       "      <th>tax</th>\n",
       "      <th>ptratio</th>\n",
       "      <th>black</th>\n",
       "      <th>lstat</th>\n",
       "      <th>medv</th>\n",
       "    </tr>\n",
       "  </thead>\n",
       "  <tbody>\n",
       "    <tr>\n",
       "      <th>0</th>\n",
       "      <td>0.00632</td>\n",
       "      <td>18.0</td>\n",
       "      <td>2.31</td>\n",
       "      <td>0</td>\n",
       "      <td>0.538</td>\n",
       "      <td>6.575</td>\n",
       "      <td>65.2</td>\n",
       "      <td>4.0900</td>\n",
       "      <td>1</td>\n",
       "      <td>296</td>\n",
       "      <td>15.3</td>\n",
       "      <td>396.90</td>\n",
       "      <td>4.98</td>\n",
       "      <td>24.0</td>\n",
       "    </tr>\n",
       "    <tr>\n",
       "      <th>1</th>\n",
       "      <td>0.02731</td>\n",
       "      <td>0.0</td>\n",
       "      <td>7.07</td>\n",
       "      <td>0</td>\n",
       "      <td>0.469</td>\n",
       "      <td>6.421</td>\n",
       "      <td>78.9</td>\n",
       "      <td>4.9671</td>\n",
       "      <td>2</td>\n",
       "      <td>242</td>\n",
       "      <td>17.8</td>\n",
       "      <td>396.90</td>\n",
       "      <td>9.14</td>\n",
       "      <td>21.6</td>\n",
       "    </tr>\n",
       "    <tr>\n",
       "      <th>2</th>\n",
       "      <td>0.02729</td>\n",
       "      <td>0.0</td>\n",
       "      <td>7.07</td>\n",
       "      <td>0</td>\n",
       "      <td>0.469</td>\n",
       "      <td>7.185</td>\n",
       "      <td>61.1</td>\n",
       "      <td>4.9671</td>\n",
       "      <td>2</td>\n",
       "      <td>242</td>\n",
       "      <td>17.8</td>\n",
       "      <td>392.83</td>\n",
       "      <td>4.03</td>\n",
       "      <td>34.7</td>\n",
       "    </tr>\n",
       "    <tr>\n",
       "      <th>3</th>\n",
       "      <td>0.03237</td>\n",
       "      <td>0.0</td>\n",
       "      <td>2.18</td>\n",
       "      <td>0</td>\n",
       "      <td>0.458</td>\n",
       "      <td>6.998</td>\n",
       "      <td>45.8</td>\n",
       "      <td>6.0622</td>\n",
       "      <td>3</td>\n",
       "      <td>222</td>\n",
       "      <td>18.7</td>\n",
       "      <td>394.63</td>\n",
       "      <td>2.94</td>\n",
       "      <td>33.4</td>\n",
       "    </tr>\n",
       "    <tr>\n",
       "      <th>4</th>\n",
       "      <td>0.06905</td>\n",
       "      <td>0.0</td>\n",
       "      <td>2.18</td>\n",
       "      <td>0</td>\n",
       "      <td>0.458</td>\n",
       "      <td>7.147</td>\n",
       "      <td>54.2</td>\n",
       "      <td>6.0622</td>\n",
       "      <td>3</td>\n",
       "      <td>222</td>\n",
       "      <td>18.7</td>\n",
       "      <td>396.90</td>\n",
       "      <td>5.33</td>\n",
       "      <td>36.2</td>\n",
       "    </tr>\n",
       "  </tbody>\n",
       "</table>\n",
       "</div>"
      ],
      "text/plain": [
       "      crim    zn  indus  chas    nox     rm   age     dis  rad  tax  ptratio  \\\n",
       "0  0.00632  18.0   2.31     0  0.538  6.575  65.2  4.0900    1  296     15.3   \n",
       "1  0.02731   0.0   7.07     0  0.469  6.421  78.9  4.9671    2  242     17.8   \n",
       "2  0.02729   0.0   7.07     0  0.469  7.185  61.1  4.9671    2  242     17.8   \n",
       "3  0.03237   0.0   2.18     0  0.458  6.998  45.8  6.0622    3  222     18.7   \n",
       "4  0.06905   0.0   2.18     0  0.458  7.147  54.2  6.0622    3  222     18.7   \n",
       "\n",
       "    black  lstat  medv  \n",
       "0  396.90   4.98  24.0  \n",
       "1  396.90   9.14  21.6  \n",
       "2  392.83   4.03  34.7  \n",
       "3  394.63   2.94  33.4  \n",
       "4  396.90   5.33  36.2  "
      ]
     },
     "execution_count": 22,
     "metadata": {},
     "output_type": "execute_result"
    }
   ],
   "source": [
    "boston = pd.read_csv(\"Boston.csv\")\n",
    "boston.head()"
   ]
  },
  {
   "cell_type": "code",
   "execution_count": 23,
   "id": "89e51d43-b938-420e-a152-1c0514c7a3cc",
   "metadata": {},
   "outputs": [],
   "source": [
    "y = boston['medv']\n",
    "X = boston.drop('medv',axis = 1)\n",
    "X_train,X_test, y_train, y_test = train_test_split(X,y,random_state=24,test_size=0.3)"
   ]
  },
  {
   "cell_type": "code",
   "execution_count": 24,
   "id": "bd6002ff-55af-466b-adae-698a4962f0e5",
   "metadata": {},
   "outputs": [
    {
     "data": {
      "text/plain": [
       "0.7133431144123461"
      ]
     },
     "execution_count": 24,
     "metadata": {},
     "output_type": "execute_result"
    }
   ],
   "source": [
    "lr = LinearRegression()\n",
    "lr.fit(X_train,y_train)\n",
    "y_pred= lr.predict(X_test)\n",
    "r2_score(y_test,y_pred)"
   ]
  },
  {
   "cell_type": "code",
   "execution_count": 25,
   "id": "8473e3d9-93e6-46c1-b626-4df81592ac9d",
   "metadata": {},
   "outputs": [],
   "source": [
    "# Correlation between %lower status and Median Value"
   ]
  },
  {
   "cell_type": "code",
   "execution_count": 26,
   "id": "7578891e-b7ec-4ac3-8bc6-00117ac94b80",
   "metadata": {},
   "outputs": [
    {
     "data": {
      "text/plain": [
       "-0.7376627261740151"
      ]
     },
     "execution_count": 26,
     "metadata": {},
     "output_type": "execute_result"
    }
   ],
   "source": [
    "boston['lstat'].corr(boston['medv'])     # Finding  linear relation bet x & y"
   ]
  },
  {
   "cell_type": "code",
   "execution_count": 27,
   "id": "b5f57e59-5f44-400c-8129-14fa7cbe1239",
   "metadata": {},
   "outputs": [
    {
     "data": {
      "image/png": "[encoded data removed]",
      "text/plain": [
       "<Figure size 640x480 with 1 Axes>"
      ]
     },
     "metadata": {},
     "output_type": "display_data"
    }
   ],
   "source": [
    "plt.scatter(boston['lstat'],boston['medv'])\n",
    "plt.show()"
   ]
  },
  {
   "cell_type": "code",
   "execution_count": 28,
   "id": "9ffb1370-2ed3-4f73-a1bf-256d7d0a4509",
   "metadata": {},
   "outputs": [
    {
     "data": {
      "text/plain": [
       "-0.6221787647682886"
      ]
     },
     "execution_count": 28,
     "metadata": {},
     "output_type": "execute_result"
    }
   ],
   "source": [
    "X = boston['lstat']\n",
    "X_2 = boston['lstat']**2\n",
    "X_2.corr(boston['medv'])        # Trying to find Relation bet X**2 and y"
   ]
  },
  {
   "cell_type": "code",
   "execution_count": 29,
   "id": "5334a34a-0798-4279-9554-1a6d4daa411f",
   "metadata": {
    "scrolled": true
   },
   "outputs": [
    {
     "data": {
      "image/png": "[encoded data removed]",
      "text/plain": [
       "<Figure size 640x480 with 1 Axes>"
      ]
     },
     "metadata": {},
     "output_type": "display_data"
    }
   ],
   "source": [
    "plt.scatter(X_2,boston['medv'])\n",
    "plt.show()"
   ]
  },
  {
   "cell_type": "markdown",
   "id": "a87ae6df-1fee-4c8f-8d07-31bf3e89cd95",
   "metadata": {},
   "source": [
    "# New Day Day 2"
   ]
  },
  {
   "cell_type": "code",
   "execution_count": 30,
   "id": "3eb08f92-6c1b-4eab-bc3e-9147ae67e59e",
   "metadata": {},
   "outputs": [],
   "source": [
    "y = boston['medv']\n",
    "X = boston[['lstat']]                      # Convert to one colum to avoid error we use [ ['Column name']]\n",
    "X_train,X_test, y_train, y_test = train_test_split(X,y,random_state=24,test_size=0.3)"
   ]
  },
  {
   "cell_type": "code",
   "execution_count": 31,
   "id": "6ca2ab76-9b81-460d-bb71-9d829b34da1c",
   "metadata": {},
   "outputs": [
    {
     "data": {
      "text/plain": [
       "0.5279301917445974"
      ]
     },
     "execution_count": 31,
     "metadata": {},
     "output_type": "execute_result"
    }
   ],
   "source": [
    "lr = LinearRegression()\n",
    "lr.fit(X_train,y_train)\n",
    "y_pred= lr.predict(X_test)\n",
    "r2_score(y_test,y_pred)"
   ]
  },
  {
   "cell_type": "markdown",
   "id": "fe73abf1-1e8c-43fd-9373-6109935121fd",
   "metadata": {},
   "source": [
    "# Polynomial Features"
   ]
  },
  {
   "cell_type": "code",
   "execution_count": 32,
   "id": "8f6f1559-9871-452d-8f60-628e107d24b9",
   "metadata": {},
   "outputs": [
    {
     "data": {
      "text/plain": [
       "'\\n\\n'"
      ]
     },
     "execution_count": 32,
     "metadata": {},
     "output_type": "execute_result"
    }
   ],
   "source": [
    "'''\n",
    "\n",
    "'''"
   ]
  },
  {
   "cell_type": "code",
   "execution_count": 35,
   "id": "b53db485-ec6f-4dc1-a1dd-3256e7515bd4",
   "metadata": {},
   "outputs": [],
   "source": [
    "# poly = PolynomialFeatures(degree=2)\n",
    "# X_poly_fit_train  = poly.fit_transform(X_train)\n",
    "# X_poly_fit_train                           # Always give output in numpy"
   ]
  },
  {
   "cell_type": "code",
   "execution_count": null,
   "id": "53ae1df9-6764-49c2-b796-bf0de6038f88",
   "metadata": {},
   "outputs": [],
   "source": [
    "#  .set_output(transform='pandas') To Convert output into pandas \n",
    "#  include_bias=False to remove constant column ()"
   ]
  },
  {
   "cell_type": "code",
   "execution_count": null,
   "id": "cc0de171-e24a-4fa7-aab0-e202a371c358",
   "metadata": {},
   "outputs": [],
   "source": [
    "# Degree 2"
   ]
  },
  {
   "cell_type": "code",
   "execution_count": 43,
   "id": "df16dfb3-24b5-4698-97b5-b6af98bfad10",
   "metadata": {},
   "outputs": [],
   "source": [
    "# poly = PolynomialFeatures(degree=2,include_bias=False).set_output(transform='pandas')\n",
    "# X_poly_fit_train  = poly.fit_transform(X_train)    \n",
    "# X_poly_fit_test = poly.transform(X_test)\n",
    "# lr.fit(X_poly_fit_train,y_train)\n",
    "# y_pred = lr.predict(X_poly_fit_test)\n",
    "# r2_score(y_test,y_pred)\n",
    "\n",
    "# # OUTPUT:  0.6431149312301052"
   ]
  },
  {
   "cell_type": "code",
   "execution_count": null,
   "id": "6fec925e-4979-4968-bfb0-30978ef5e438",
   "metadata": {},
   "outputs": [],
   "source": [
    "# Degree 3"
   ]
  },
  {
   "cell_type": "code",
   "execution_count": 39,
   "id": "737174ff-2115-4f3e-a98c-1bd5b317c121",
   "metadata": {},
   "outputs": [
    {
     "data": {
      "text/plain": [
       "0.6464637609380752"
      ]
     },
     "execution_count": 39,
     "metadata": {},
     "output_type": "execute_result"
    }
   ],
   "source": [
    "poly = PolynomialFeatures(degree=3,include_bias=False).set_output(transform='pandas')\n",
    "X_poly_fit_train  = poly.fit_transform(X_train)    \n",
    "X_poly_fit_test = poly.transform(X_test)\n",
    "lr.fit(X_poly_fit_train,y_train)\n",
    "y_pred = lr.predict(X_poly_fit_test)\n",
    "r2_score(y_test,y_pred)"
   ]
  },
  {
   "cell_type": "code",
   "execution_count": null,
   "id": "f3141cdb-f4be-4642-85fb-f65172c649a0",
   "metadata": {},
   "outputs": [],
   "source": [
    "# Degree 4"
   ]
  },
  {
   "cell_type": "code",
   "execution_count": 42,
   "id": "c9d082fe-fa52-4c0f-b174-a2c8ea268f3f",
   "metadata": {},
   "outputs": [],
   "source": [
    "# poly = PolynomialFeatures(degree=4,include_bias=False).set_output(transform='pandas')\n",
    "# X_poly_fit_train  = poly.fit_transform(X_train)    \n",
    "# X_poly_fit_test = poly.transform(X_test)\n",
    "# lr.fit(X_poly_fit_train,y_train)\n",
    "# y_pred = lr.predict(X_poly_fit_test)\n",
    "# r2_score(y_test,y_pred)\n",
    "\n",
    "# # OUTPUT: 0.6397924587035033"
   ]
  },
  {
   "cell_type": "code",
   "execution_count": 41,
   "id": "602f980d-f5bb-4ac7-bc8e-9b378a508616",
   "metadata": {},
   "outputs": [],
   "source": [
    "# So Degree 3 is best for this dataset "
   ]
  },
  {
   "cell_type": "code",
   "execution_count": 44,
   "id": "f6c2e536-e657-4fc4-b454-c3c376bcdd82",
   "metadata": {},
   "outputs": [
    {
     "data": {
      "text/plain": [
       "Index(['crim', 'zn', 'indus', 'chas', 'nox', 'rm', 'age', 'dis', 'rad', 'tax',\n",
       "       'ptratio', 'black', 'lstat', 'medv'],\n",
       "      dtype='object')"
      ]
     },
     "execution_count": 44,
     "metadata": {},
     "output_type": "execute_result"
    }
   ],
   "source": [
    "boston.columns"
   ]
  },
  {
   "cell_type": "raw",
   "id": "10ceca62-2304-4b99-99d5-b6991f7d24ed",
   "metadata": {},
   "source": [
    "# Taking Two variables\n",
    "Taking Columns: 'rad' & 'lstat'"
   ]
  },
  {
   "cell_type": "code",
   "execution_count": 54,
   "id": "f32ba5c6-a1cc-43e6-bbb1-3136d693c346",
   "metadata": {},
   "outputs": [],
   "source": [
    "X = boston[['lstat','rad']]\n",
    "y = boston['medv']\n",
    "X_train,X_test, y_train, y_test = train_test_split(X,y,random_state=24,test_size=0.3)"
   ]
  },
  {
   "cell_type": "raw",
   "id": "131c9499-b326-442e-a003-ff7659a0ccd1",
   "metadata": {},
   "source": [
    "# Degree 1"
   ]
  },
  {
   "cell_type": "code",
   "execution_count": 55,
   "id": "694cb969-beac-46b7-9605-995150c12e2a",
   "metadata": {},
   "outputs": [
    {
     "data": {
      "text/plain": [
       "0.5260520682885452"
      ]
     },
     "execution_count": 55,
     "metadata": {},
     "output_type": "execute_result"
    }
   ],
   "source": [
    "lr = LinearRegression()\n",
    "lr.fit(X_train,y_train)\n",
    "y_pred= lr.predict(X_test)\n",
    "r2_score(y_test,y_pred)"
   ]
  },
  {
   "cell_type": "raw",
   "id": "aafabc47-e368-497d-b815-e00ae2e160cf",
   "metadata": {},
   "source": [
    "# Degree 2"
   ]
  },
  {
   "cell_type": "code",
   "execution_count": 56,
   "id": "4b6cf2b6-74ed-4b09-bc8d-3f36b88c166f",
   "metadata": {},
   "outputs": [
    {
     "data": {
      "text/plain": [
       "0.6833321681968951"
      ]
     },
     "execution_count": 56,
     "metadata": {},
     "output_type": "execute_result"
    }
   ],
   "source": [
    "poly = PolynomialFeatures(degree=2,include_bias=False).set_output(transform='pandas')\n",
    "X_poly_fit_train  = poly.fit_transform(X_train)    \n",
    "X_poly_fit_test = poly.transform(X_test)\n",
    "lr.fit(X_poly_fit_train,y_train)\n",
    "y_pred = lr.predict(X_poly_fit_test)\n",
    "r2_score(y_test,y_pred)"
   ]
  },
  {
   "cell_type": "raw",
   "id": "7ab477c5-d409-4e84-92a0-f59488731459",
   "metadata": {},
   "source": [
    "# Degree 3"
   ]
  },
  {
   "cell_type": "code",
   "execution_count": 57,
   "id": "935d0c41-b7cd-4ffa-89ae-af453d639c67",
   "metadata": {},
   "outputs": [
    {
     "data": {
      "text/plain": [
       "0.6883404673189563"
      ]
     },
     "execution_count": 57,
     "metadata": {},
     "output_type": "execute_result"
    }
   ],
   "source": [
    "poly = PolynomialFeatures(degree=3,include_bias=False).set_output(transform='pandas')\n",
    "X_poly_fit_train  = poly.fit_transform(X_train)    \n",
    "X_poly_fit_test = poly.transform(X_test)\n",
    "lr.fit(X_poly_fit_train,y_train)\n",
    "y_pred = lr.predict(X_poly_fit_test)\n",
    "r2_score(y_test,y_pred)"
   ]
  },
  {
   "cell_type": "raw",
   "id": "71aec8e1-ec8e-4293-905e-6e6a3936bef5",
   "metadata": {},
   "source": [
    "# Degree 4"
   ]
  },
  {
   "cell_type": "code",
   "execution_count": 58,
   "id": "8f42d385-b9a2-40a2-bb6b-5ba580fe1408",
   "metadata": {},
   "outputs": [
    {
     "data": {
      "text/plain": [
       "0.666965334431979"
      ]
     },
     "execution_count": 58,
     "metadata": {},
     "output_type": "execute_result"
    }
   ],
   "source": [
    "poly = PolynomialFeatures(degree=4,include_bias=False).set_output(transform='pandas')\n",
    "X_poly_fit_train  = poly.fit_transform(X_train)    \n",
    "X_poly_fit_test = poly.transform(X_test)\n",
    "lr.fit(X_poly_fit_train,y_train)\n",
    "y_pred = lr.predict(X_poly_fit_test)\n",
    "r2_score(y_test,y_pred)"
   ]
  },
  {
   "cell_type": "code",
   "execution_count": 62,
   "id": "d4f33a67-d025-4587-ab16-5b02a45a5d00",
   "metadata": {},
   "outputs": [
    {
     "data": {
      "text/plain": [
       "Index(['lstat', 'rad', 'lstat^2', 'lstat rad', 'rad^2', 'lstat^3',\n",
       "       'lstat^2 rad', 'lstat rad^2', 'rad^3', 'lstat^4', 'lstat^3 rad',\n",
       "       'lstat^2 rad^2', 'lstat rad^3', 'rad^4'],\n",
       "      dtype='object')"
      ]
     },
     "execution_count": 62,
     "metadata": {},
     "output_type": "execute_result"
    }
   ],
   "source": [
    "X_poly_fit_train.columns\n",
    "#   Degree2  = x1   x2     x1*x2   x1^2  x2^2\n",
    "#   Degree3  = x1   x2     x1^2   x1*x2  x2^2   x1^3   x1^2*x1   x1x2^2    x2^3"
   ]
  },
  {
   "cell_type": "code",
   "execution_count": 73,
   "id": "379e592f-9dc5-4eea-9141-6bafd5e253ed",
   "metadata": {},
   "outputs": [],
   "source": [
    "X = boston.drop('medv',axis=1)\n",
    "y = boston['medv']\n",
    "X_train,X_test, y_train, y_test = train_test_split(X,y,random_state=24,test_size=0.3)"
   ]
  },
  {
   "cell_type": "raw",
   "id": "6ce9982e-663e-4177-b2ee-f14a339be2bf",
   "metadata": {},
   "source": [
    "# degree 1"
   ]
  },
  {
   "cell_type": "code",
   "execution_count": 75,
   "id": "252a6130-b8b3-4ee8-af4c-0f716cbe1300",
   "metadata": {},
   "outputs": [
    {
     "data": {
      "text/plain": [
       "0.7133431144123461"
      ]
     },
     "execution_count": 75,
     "metadata": {},
     "output_type": "execute_result"
    }
   ],
   "source": [
    "lr = LinearRegression()\n",
    "lr.fit(X_train,y_train)\n",
    "y_pred= lr.predict(X_test)\n",
    "r2_score(y_test,y_pred)"
   ]
  },
  {
   "cell_type": "raw",
   "id": "e8bde0db-83f8-4f66-bba1-53d61971427d",
   "metadata": {},
   "source": [
    "# Degree 2"
   ]
  },
  {
   "cell_type": "code",
   "execution_count": 77,
   "id": "fa989719-9c7a-4376-a8c1-c0bea4123e51",
   "metadata": {},
   "outputs": [
    {
     "data": {
      "text/plain": [
       "0.6950286611541465"
      ]
     },
     "execution_count": 77,
     "metadata": {},
     "output_type": "execute_result"
    }
   ],
   "source": [
    "poly = PolynomialFeatures(degree=2,include_bias=False).set_output(transform='pandas')\n",
    "X_poly_fit_train  = poly.fit_transform(X_train)    \n",
    "X_poly_fit_test = poly.transform(X_test)\n",
    "lr.fit(X_poly_fit_train,y_train)\n",
    "y_pred = lr.predict(X_poly_fit_test)\n",
    "r2_score(y_test,y_pred)"
   ]
  },
  {
   "cell_type": "raw",
   "id": "1bc99ca1-574a-4202-80c5-4b1a33cb4a7a",
   "metadata": {},
   "source": [
    "# Degree 3"
   ]
  },
  {
   "cell_type": "code",
   "execution_count": 84,
   "id": "c88e4af1-6e6a-4ad9-b505-2e1261e3d99a",
   "metadata": {},
   "outputs": [
    {
     "data": {
      "text/plain": [
       "-8442.445261153322"
      ]
     },
     "execution_count": 84,
     "metadata": {},
     "output_type": "execute_result"
    }
   ],
   "source": [
    "poly = PolynomialFeatures(degree=3,include_bias=False).set_output(transform='pandas')\n",
    "X_poly_fit_train  = poly.fit_transform(X_train)    \n",
    "X_poly_fit_test = poly.transform(X_test)\n",
    "lr.fit(X_poly_fit_train,y_train)\n",
    "y_pred = lr.predict(X_poly_fit_test)\n",
    "r2_score(y_test,y_pred)"
   ]
  },
  {
   "cell_type": "raw",
   "id": "4dd88e3c-c6c4-42a4-91fd-75852c42b962",
   "metadata": {},
   "source": [
    "# Degree 4"
   ]
  },
  {
   "cell_type": "code",
   "execution_count": 81,
   "id": "c0303599-ffd7-4190-9fba-4bd8909478e0",
   "metadata": {},
   "outputs": [
    {
     "data": {
      "text/plain": [
       "-1370.9553199802765"
      ]
     },
     "execution_count": 81,
     "metadata": {},
     "output_type": "execute_result"
    }
   ],
   "source": [
    "poly = PolynomialFeatures(degree=4,include_bias=False).set_output(transform='pandas')\n",
    "X_poly_fit_train  = poly.fit_transform(X_train)    \n",
    "X_poly_fit_test = poly.transform(X_test)\n",
    "lr.fit(X_poly_fit_train,y_train)\n",
    "y_pred = lr.predict(X_poly_fit_test)\n",
    "r2_score(y_test,y_pred)"
   ]
  },
  {
   "cell_type": "code",
   "execution_count": 83,
   "id": "fc9a4f0d-a23c-4b14-a6e1-04bf88d02b35",
   "metadata": {},
   "outputs": [
    {
     "data": {
      "text/plain": [
       "Index(['crim', 'zn', 'indus', 'chas', 'nox', 'rm', 'age', 'dis', 'rad', 'tax',\n",
       "       ...\n",
       "       'ptratio^2 lstat^2', 'ptratio black^3', 'ptratio black^2 lstat',\n",
       "       'ptratio black lstat^2', 'ptratio lstat^3', 'black^4', 'black^3 lstat',\n",
       "       'black^2 lstat^2', 'black lstat^3', 'lstat^4'],\n",
       "      dtype='object', length=2379)"
      ]
     },
     "execution_count": 83,
     "metadata": {},
     "output_type": "execute_result"
    }
   ],
   "source": [
    "X_poly_fit_train.columns"
   ]
  },
  {
   "cell_type": "code",
   "execution_count": null,
   "id": "925b0506-42a7-4923-bd13-9e0bcdc692bd",
   "metadata": {},
   "outputs": [],
   "source": []
  }
 ],
 "metadata": {
  "kernelspec": {
   "display_name": "Python 3 (ipykernel)",
   "language": "python",
   "name": "python3"
  },
  "language_info": {
   "codemirror_mode": {
    "name": "ipython",
    "version": 3
   },
   "file_extension": ".py",
   "mimetype": "text/x-python",
   "name": "python",
   "nbconvert_exporter": "python",
   "pygments_lexer": "ipython3",
   "version": "3.12.4"
  }
 },
 "nbformat": 4,
 "nbformat_minor": 5
}
