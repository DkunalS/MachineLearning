{
 "cells": [
  {
   "cell_type": "code",
   "execution_count": 378,
   "id": "043ddb72-6e00-4f54-a927-4608bbe461db",
   "metadata": {},
   "outputs": [],
   "source": [
    "import pandas as pd \n",
    "import numpy as np \n",
    "from sklearn.model_selection import KFold, cross_val_score, GridSearchCV\n",
    "from sklearn.linear_model import LogisticRegression\n",
    "from sklearn.impute import SimpleImputer\n",
    "from sklearn.model_selection import train_test_split\n",
    "from sklearn.preprocessing import LabelEncoder, OneHotEncoder\n",
    "from sklearn.metrics import confusion_matrix, accuracy_score \n",
    "from sklearn.compose import make_column_transformer\n",
    "from sklearn.compose import make_column_selector\n",
    "from sklearn.pipeline import Pipeline\n",
    "\n",
    "# To Avoid Warnings\n",
    "import warnings\n",
    "warnings.filterwarnings(\"ignore\")"
   ]
  },
  {
   "cell_type": "markdown",
   "id": "adcd6be9-aa5a-4297-89ee-0ad553847a98",
   "metadata": {},
   "source": [
    "# Breast Cancer Wisconsin (Original) DATASET"
   ]
  },
  {
   "cell_type": "code",
   "execution_count": 196,
   "id": "f18d0898-6124-470f-98ab-a54090d8c09c",
   "metadata": {
    "scrolled": true
   },
   "outputs": [],
   "source": [
    "from ucimlrepo import fetch_ucirepo \n",
    "  \n",
    "# fetch dataset \n",
    "breast_cancer_wisconsin_original = fetch_ucirepo(id=15) \n",
    "  \n",
    "# data (as pandas dataframes) \n",
    "X = breast_cancer_wisconsin_original.data.features \n",
    "y = breast_cancer_wisconsin_original.data.targets "
   ]
  },
  {
   "cell_type": "code",
   "execution_count": 197,
   "id": "9f600457-1598-4879-b36c-f2800052e22a",
   "metadata": {},
   "outputs": [
    {
     "data": {
      "text/plain": [
       "Index(['Clump_thickness', 'Uniformity_of_cell_size',\n",
       "       'Uniformity_of_cell_shape', 'Marginal_adhesion',\n",
       "       'Single_epithelial_cell_size', 'Bare_nuclei', 'Bland_chromatin',\n",
       "       'Normal_nucleoli', 'Mitoses'],\n",
       "      dtype='object')"
      ]
     },
     "execution_count": 197,
     "metadata": {},
     "output_type": "execute_result"
    }
   ],
   "source": [
    "X.columns"
   ]
  },
  {
   "cell_type": "code",
   "execution_count": 198,
   "id": "bb7d623d-11c0-4d15-9462-f55246d07674",
   "metadata": {},
   "outputs": [
    {
     "data": {
      "text/plain": [
       "array([2, 4], dtype=int64)"
      ]
     },
     "execution_count": 198,
     "metadata": {},
     "output_type": "execute_result"
    }
   ],
   "source": [
    "y['Class'].unique()       # 2 for bignin & 4  for malignant"
   ]
  },
  {
   "cell_type": "code",
   "execution_count": 199,
   "id": "1d2cf5fe-4f11-4785-8153-5094095a052d",
   "metadata": {
    "scrolled": true
   },
   "outputs": [],
   "source": [
    "X.drop('Bare_nuclei',axis=1,inplace=True)"
   ]
  },
  {
   "cell_type": "code",
   "execution_count": 200,
   "id": "d3969de4-b229-411f-8054-69d7833e06bd",
   "metadata": {},
   "outputs": [
    {
     "data": {
      "text/plain": [
       "Clump_thickness                0\n",
       "Uniformity_of_cell_size        0\n",
       "Uniformity_of_cell_shape       0\n",
       "Marginal_adhesion              0\n",
       "Single_epithelial_cell_size    0\n",
       "Bland_chromatin                0\n",
       "Normal_nucleoli                0\n",
       "Mitoses                        0\n",
       "dtype: int64"
      ]
     },
     "execution_count": 200,
     "metadata": {},
     "output_type": "execute_result"
    }
   ],
   "source": [
    "X.isnull().sum()"
   ]
  },
  {
   "cell_type": "code",
   "execution_count": 201,
   "id": "749a30be-a436-44f5-80b0-4b38e3b70c54",
   "metadata": {},
   "outputs": [],
   "source": [
    "y['Class'] = y['Class'].apply(lambda x : 0 if x ==  2 else 1)"
   ]
  },
  {
   "cell_type": "code",
   "execution_count": 202,
   "id": "01bf4d15-52aa-439f-b32e-24e21a900549",
   "metadata": {},
   "outputs": [
    {
     "data": {
      "text/plain": [
       "Class\n",
       "0    458\n",
       "1    241\n",
       "Name: count, dtype: int64"
      ]
     },
     "execution_count": 202,
     "metadata": {},
     "output_type": "execute_result"
    }
   ],
   "source": [
    "y['Class'].value_counts()"
   ]
  },
  {
   "cell_type": "code",
   "execution_count": 203,
   "id": "b1b87e5a-4ab0-48c6-996d-07658d023e5a",
   "metadata": {},
   "outputs": [],
   "source": [
    "X_train, X_test, y_train, y_test = train_test_split(X ,y, random_state=24, test_size=0.3)"
   ]
  },
  {
   "cell_type": "code",
   "execution_count": 204,
   "id": "291ad576-9de4-4ba0-8d82-4289496f7d1d",
   "metadata": {},
   "outputs": [],
   "source": [
    "lr = LogisticRegression()\n",
    "lr.fit(X,y)\n",
    "y_pred = lr.predict(X_test)\n",
    "# pd.crosstab(y_test['Class'].values,y_pred)     # insted of that we can use Confusion_Metrix() & Accoracy Score()"
   ]
  },
  {
   "cell_type": "code",
   "execution_count": 205,
   "id": "3186a908-2dc8-463a-93c5-4aaaa014c5b7",
   "metadata": {},
   "outputs": [
    {
     "data": {
      "text/plain": [
       "0.9666666666666667"
      ]
     },
     "execution_count": 205,
     "metadata": {},
     "output_type": "execute_result"
    }
   ],
   "source": [
    "(135+68)/(135+68+4+3)"
   ]
  },
  {
   "cell_type": "code",
   "execution_count": 206,
   "id": "4f2b998b-e174-425b-92c3-4e46c5e56e82",
   "metadata": {},
   "outputs": [
    {
     "name": "stdout",
     "output_type": "stream",
     "text": [
      "Accuracy Score :  0.9666666666666667\n",
      "Confusion Metrix :\n",
      "  [[135   3]\n",
      " [  4  68]]\n"
     ]
    }
   ],
   "source": [
    "print(\"Accuracy Score : \",accuracy_score(y_test['Class'],y_pred))\n",
    "print(\"Confusion Metrix :\\n \", confusion_matrix(y_test['Class'],y_pred))\n"
   ]
  },
  {
   "cell_type": "code",
   "execution_count": 207,
   "id": "bb45e21b-d591-4a74-a8c5-9d5f3be641ee",
   "metadata": {},
   "outputs": [
    {
     "data": {
      "text/plain": [
       "Class\n",
       "0    0.655222\n",
       "1    0.344778\n",
       "Name: proportion, dtype: float64"
      ]
     },
     "execution_count": 207,
     "metadata": {},
     "output_type": "execute_result"
    }
   ],
   "source": [
    "y['Class'].value_counts(normalize=True)"
   ]
  },
  {
   "cell_type": "code",
   "execution_count": null,
   "id": "bbf714e0-96e4-4c3c-bbd9-607fe5e97532",
   "metadata": {},
   "outputs": [],
   "source": []
  },
  {
   "cell_type": "code",
   "execution_count": 208,
   "id": "7f96f29a-0626-4c38-9792-5a7545de59a1",
   "metadata": {
    "scrolled": true
   },
   "outputs": [
    {
     "data": {
      "text/plain": [
       "Class\n",
       "0    138\n",
       "1     72\n",
       "Name: count, dtype: int64"
      ]
     },
     "execution_count": 208,
     "metadata": {},
     "output_type": "execute_result"
    }
   ],
   "source": [
    "y_test['Class'].value_counts()"
   ]
  },
  {
   "cell_type": "markdown",
   "id": "a909587b-2553-407f-8fb3-2f86c7ecda74",
   "metadata": {},
   "source": [
    "# Naive Rule (BaseLine Model) :\n",
    "- always try this before applying Machine Learning Model ( if this model have more score than ML Model then Don't Use that ML model)"
   ]
  },
  {
   "cell_type": "code",
   "execution_count": 209,
   "id": "caf22339-9292-4f43-bb8e-1c22c7cc350a",
   "metadata": {},
   "outputs": [],
   "source": [
    "y_pred = np.zeros(210)"
   ]
  },
  {
   "cell_type": "code",
   "execution_count": 210,
   "id": "8944ed8e-a74b-4de6-8ef7-cf5774c772eb",
   "metadata": {},
   "outputs": [
    {
     "data": {
      "text/plain": [
       "Class\n",
       "0    138\n",
       "1     72\n",
       "Name: count, dtype: int64"
      ]
     },
     "execution_count": 210,
     "metadata": {},
     "output_type": "execute_result"
    }
   ],
   "source": [
    "y_test['Class'].value_counts()"
   ]
  },
  {
   "cell_type": "code",
   "execution_count": 211,
   "id": "4f9301f2-8c8e-4cdc-a34b-81f8006aaa57",
   "metadata": {},
   "outputs": [
    {
     "data": {
      "text/plain": [
       "0.6571428571428571"
      ]
     },
     "execution_count": 211,
     "metadata": {},
     "output_type": "execute_result"
    }
   ],
   "source": [
    "accuracy_score(y_test['Class'],y_pred)    # something Wrong in code"
   ]
  },
  {
   "cell_type": "markdown",
   "id": "b05a014f-91ec-4992-8b48-981cf47e92e8",
   "metadata": {},
   "source": [
    "# Breast Cancer Wisconsin (Diagnostic) DATASET"
   ]
  },
  {
   "cell_type": "code",
   "execution_count": 212,
   "id": "0f4e716c-0f41-4d03-9651-b89bb4451a5f",
   "metadata": {},
   "outputs": [],
   "source": [
    "from ucimlrepo import fetch_ucirepo \n",
    "  \n",
    "# fetch dataset \n",
    "breast_cancer_wisconsin_diagnostic = fetch_ucirepo(id=17) \n",
    "  \n",
    "# data (as pandas dataframes) \n",
    "X = breast_cancer_wisconsin_diagnostic.data.features \n",
    "y = breast_cancer_wisconsin_diagnostic.data.targets "
   ]
  },
  {
   "cell_type": "code",
   "execution_count": 213,
   "id": "9170d650-b6c2-4734-ac13-5640e646dbf3",
   "metadata": {
    "scrolled": true
   },
   "outputs": [],
   "source": [
    "y['Diagnosis'] = y['Diagnosis'].apply(lambda x : 0 if x ==  \"B\" else 1)\n",
    "# OR\n",
    "# lbl = LabelEncoder()\n",
    "# y['Diagnosis'] = lbl.fit_transform(y['Diagnosis'])"
   ]
  },
  {
   "cell_type": "code",
   "execution_count": 214,
   "id": "899760f0-42e0-4a5d-bf21-74fe10a6e499",
   "metadata": {},
   "outputs": [],
   "source": [
    "X_train, X_test, y_train, y_test = train_test_split(X ,y, random_state=24, test_size=0.3)"
   ]
  },
  {
   "cell_type": "code",
   "execution_count": 215,
   "id": "4ca66ec6-f2d3-4abe-be39-fc1909b19ce9",
   "metadata": {},
   "outputs": [],
   "source": [
    "lr = LogisticRegression()\n",
    "lr.fit(X,y)\n",
    "y_pred = lr.predict(X_test)"
   ]
  },
  {
   "cell_type": "code",
   "execution_count": 216,
   "id": "8f130b7c-08c9-4e2a-871e-53642c934bbd",
   "metadata": {},
   "outputs": [
    {
     "name": "stdout",
     "output_type": "stream",
     "text": [
      "Accuracy Score :  0.9532163742690059\n",
      "Confusion Metrix :\n",
      "  [[102   4]\n",
      " [  4  61]]\n"
     ]
    }
   ],
   "source": [
    "print(\"Accuracy Score : \",accuracy_score(y_test['Diagnosis'],y_pred))\n",
    "print(\"Confusion Metrix :\\n \", confusion_matrix(y_test['Diagnosis'],y_pred))"
   ]
  },
  {
   "cell_type": "code",
   "execution_count": 217,
   "id": "8d0a7a4d-4ed0-4ee3-8d84-b516d1d16398",
   "metadata": {
    "scrolled": true
   },
   "outputs": [
    {
     "data": {
      "text/plain": [
       "Diagnosis\n",
       "0    357\n",
       "1    212\n",
       "Name: count, dtype: int64"
      ]
     },
     "execution_count": 217,
     "metadata": {},
     "output_type": "execute_result"
    }
   ],
   "source": [
    "y['Diagnosis'].value_counts()"
   ]
  },
  {
   "cell_type": "code",
   "execution_count": 218,
   "id": "a6ec39c1-0702-4d21-bf91-28da1ba2437a",
   "metadata": {},
   "outputs": [],
   "source": [
    "y_pred = np.zeros(y_test.shape[0])"
   ]
  },
  {
   "cell_type": "code",
   "execution_count": 219,
   "id": "70b443d9-e68a-4118-96ef-de7f0042ca9b",
   "metadata": {},
   "outputs": [
    {
     "data": {
      "text/plain": [
       "0.6198830409356725"
      ]
     },
     "execution_count": 219,
     "metadata": {},
     "output_type": "execute_result"
    }
   ],
   "source": [
    "accuracy_score(y_test['Diagnosis'],y_pred)"
   ]
  },
  {
   "cell_type": "markdown",
   "id": "e655fe4a-bbf3-44a2-89c7-80113e4803c6",
   "metadata": {},
   "source": [
    "# IRIS Dataset"
   ]
  },
  {
   "cell_type": "code",
   "execution_count": 245,
   "id": "cbf9236c-a41c-4aea-95f0-dde14a3050be",
   "metadata": {},
   "outputs": [],
   "source": [
    "iris = pd.read_csv(\"iris.csv\")"
   ]
  },
  {
   "cell_type": "code",
   "execution_count": 246,
   "id": "3330d482-b2c1-4203-8141-6626509cd0d8",
   "metadata": {
    "scrolled": true
   },
   "outputs": [],
   "source": [
    "lbl = LabelEncoder()\n",
    "iris['Species'] = lbl.fit_transform(iris['Species'])"
   ]
  },
  {
   "cell_type": "code",
   "execution_count": 247,
   "id": "ee305510-d23b-4479-bebf-3d79d395e467",
   "metadata": {},
   "outputs": [],
   "source": [
    "y = iris['Species']\n",
    "X = iris.drop('Species',axis='columns')"
   ]
  },
  {
   "cell_type": "code",
   "execution_count": 252,
   "id": "96defdb9-f61e-40d2-abb5-c9c8d7e2d070",
   "metadata": {},
   "outputs": [
    {
     "data": {
      "text/plain": [
       "Species\n",
       "0    50\n",
       "1    50\n",
       "2    50\n",
       "Name: count, dtype: int64"
      ]
     },
     "execution_count": 252,
     "metadata": {},
     "output_type": "execute_result"
    }
   ],
   "source": [
    "y.value_counts()"
   ]
  },
  {
   "cell_type": "code",
   "execution_count": 253,
   "id": "4fbf6a27-6115-48b4-a2d7-d0f1740386fb",
   "metadata": {},
   "outputs": [],
   "source": [
    "X_train, X_test, y_train, y_test = train_test_split(X ,y, random_state=24, test_size=0.3)"
   ]
  },
  {
   "cell_type": "code",
   "execution_count": 254,
   "id": "bfdb5b7a-4b30-47f8-b980-dfb2c729ef1e",
   "metadata": {},
   "outputs": [],
   "source": [
    "lr = LogisticRegression()\n",
    "lr.fit(X,y)\n",
    "y_pred = lr.predict(X_test)"
   ]
  },
  {
   "cell_type": "code",
   "execution_count": 256,
   "id": "a48734e2-f3f6-487a-9a28-069723427745",
   "metadata": {},
   "outputs": [
    {
     "data": {
      "text/plain": [
       "array(['setosa', 'versicolor', 'virginica'], dtype=object)"
      ]
     },
     "execution_count": 256,
     "metadata": {},
     "output_type": "execute_result"
    }
   ],
   "source": [
    "lbl.classes_"
   ]
  },
  {
   "cell_type": "code",
   "execution_count": 257,
   "id": "908c8e88-f449-4b22-990a-940cbf5265ad",
   "metadata": {},
   "outputs": [
    {
     "data": {
      "text/plain": [
       "array([[15,  0,  0],\n",
       "       [ 0, 11,  1],\n",
       "       [ 0,  0, 18]], dtype=int64)"
      ]
     },
     "execution_count": 257,
     "metadata": {},
     "output_type": "execute_result"
    }
   ],
   "source": [
    "confusion_matrix(y_test,y_pred)"
   ]
  },
  {
   "cell_type": "code",
   "execution_count": 258,
   "id": "69217779-cf38-460f-9ce8-837be02fa84a",
   "metadata": {},
   "outputs": [
    {
     "data": {
      "text/plain": [
       "0.9777777777777777"
      ]
     },
     "execution_count": 258,
     "metadata": {},
     "output_type": "execute_result"
    }
   ],
   "source": [
    "accuracy_score(y_test,y_pred)"
   ]
  },
  {
   "cell_type": "code",
   "execution_count": 267,
   "id": "00eb4920-17dd-4553-b570-55ff413976b8",
   "metadata": {},
   "outputs": [
    {
     "data": {
      "text/plain": [
       "array([0., 0., 0., 0., 0., 0., 0., 0., 0., 0., 0., 0., 0., 0., 0., 0., 0.,\n",
       "       0., 0., 0., 0., 0., 0., 0., 0., 0., 0., 0., 0., 0., 0., 0., 0., 0.,\n",
       "       0., 0., 0., 0., 0., 0., 0., 0., 0., 0., 0.])"
      ]
     },
     "execution_count": 267,
     "metadata": {},
     "output_type": "execute_result"
    }
   ],
   "source": [
    "y_pred"
   ]
  },
  {
   "cell_type": "code",
   "execution_count": 264,
   "id": "4e1a0800-6950-417b-b0b6-cc2fd08f6e02",
   "metadata": {},
   "outputs": [
    {
     "data": {
      "text/plain": [
       "Species\n",
       "2    18\n",
       "0    15\n",
       "1    12\n",
       "Name: count, dtype: int64"
      ]
     },
     "execution_count": 264,
     "metadata": {},
     "output_type": "execute_result"
    }
   ],
   "source": [
    "y_test.value_counts()"
   ]
  },
  {
   "cell_type": "code",
   "execution_count": 266,
   "id": "9c3ea6a2-b744-4064-adf8-f81980522e97",
   "metadata": {},
   "outputs": [
    {
     "data": {
      "text/plain": [
       "0.3333333333333333"
      ]
     },
     "execution_count": 266,
     "metadata": {},
     "output_type": "execute_result"
    }
   ],
   "source": [
    "accuracy_score(y_test,y_pred)"
   ]
  },
  {
   "cell_type": "markdown",
   "id": "7237bd15-5240-42e9-876e-36723e69339f",
   "metadata": {},
   "source": [
    "# Default Dataset"
   ]
  },
  {
   "cell_type": "code",
   "execution_count": 317,
   "id": "2d847ccb-bba6-4baf-a474-594949f2d1b1",
   "metadata": {},
   "outputs": [
    {
     "data": {
      "text/plain": [
       "Index(['default', 'student', 'balance', 'income'], dtype='object')"
      ]
     },
     "execution_count": 317,
     "metadata": {},
     "output_type": "execute_result"
    }
   ],
   "source": [
    "df = pd.read_csv('Default.csv')\n",
    "df.columns"
   ]
  },
  {
   "cell_type": "code",
   "execution_count": 318,
   "id": "03e449f4-edf6-4386-86a3-53afc16110f8",
   "metadata": {},
   "outputs": [],
   "source": [
    "df['default'] = df['default'].apply(lambda x : 0 if x ==  \"No\" else 1)\n",
    "df['student'] = df['student'].apply(lambda x : 0 if x ==  \"No\" else 1)"
   ]
  },
  {
   "cell_type": "code",
   "execution_count": 319,
   "id": "c8a0bea8-002d-4241-94f3-2bc18fdf351a",
   "metadata": {},
   "outputs": [],
   "source": [
    "y = df['default']\n",
    "X = df.drop('default',axis = 'columns')"
   ]
  },
  {
   "cell_type": "code",
   "execution_count": 320,
   "id": "0c00342f-d881-4705-97f4-7d5bc238d7af",
   "metadata": {},
   "outputs": [
    {
     "data": {
      "text/plain": [
       "default\n",
       "0    9667\n",
       "1     333\n",
       "Name: count, dtype: int64"
      ]
     },
     "execution_count": 320,
     "metadata": {},
     "output_type": "execute_result"
    }
   ],
   "source": [
    "df['default'].value_counts()"
   ]
  },
  {
   "cell_type": "code",
   "execution_count": 329,
   "id": "2902b7b4-e625-4fc6-8c3c-eff8fff3a959",
   "metadata": {
    "scrolled": true
   },
   "outputs": [
    {
     "data": {
      "text/plain": [
       "student\n",
       "0    7056\n",
       "1    2944\n",
       "Name: count, dtype: int64"
      ]
     },
     "execution_count": 329,
     "metadata": {},
     "output_type": "execute_result"
    }
   ],
   "source": [
    "df['student'].value_counts()"
   ]
  },
  {
   "cell_type": "code",
   "execution_count": 322,
   "id": "6237660b-1013-43ca-ab9b-011d0aff9a3a",
   "metadata": {},
   "outputs": [],
   "source": [
    "X_train, X_test, y_train, y_test = train_test_split(X ,y, random_state=24, test_size=0.3)"
   ]
  },
  {
   "cell_type": "code",
   "execution_count": 323,
   "id": "959c441b-dc42-4644-9603-af6f97951983",
   "metadata": {},
   "outputs": [],
   "source": [
    "lr = LogisticRegression()\n",
    "lr.fit(X,y)\n",
    "y_pred = lr.predict(X_test)"
   ]
  },
  {
   "cell_type": "code",
   "execution_count": 324,
   "id": "950cae69-280f-438e-8ac6-12cfeb03a9c9",
   "metadata": {},
   "outputs": [
    {
     "data": {
      "text/plain": [
       "array([[2886,   15],\n",
       "       [  74,   25]], dtype=int64)"
      ]
     },
     "execution_count": 324,
     "metadata": {},
     "output_type": "execute_result"
    }
   ],
   "source": [
    "confusion_matrix(y_test,y_pred)"
   ]
  },
  {
   "cell_type": "code",
   "execution_count": 325,
   "id": "8cbc2863-d305-494f-aa94-30b830d5db02",
   "metadata": {
    "scrolled": true
   },
   "outputs": [
    {
     "data": {
      "text/plain": [
       "0.9703333333333334"
      ]
     },
     "execution_count": 325,
     "metadata": {},
     "output_type": "execute_result"
    }
   ],
   "source": [
    "accuracy_score(y_test,y_pred)"
   ]
  },
  {
   "cell_type": "code",
   "execution_count": 344,
   "id": "c4f7adcd-886b-4382-a364-2375988ba4c9",
   "metadata": {
    "scrolled": true
   },
   "outputs": [
    {
     "data": {
      "text/plain": [
       "(3000,)"
      ]
     },
     "execution_count": 344,
     "metadata": {},
     "output_type": "execute_result"
    }
   ],
   "source": [
    "y_test.shape"
   ]
  },
  {
   "cell_type": "code",
   "execution_count": 345,
   "id": "bba35610-e7d1-443f-a2bf-1fcf286ed207",
   "metadata": {},
   "outputs": [],
   "source": [
    "# Naive Rule Check"
   ]
  },
  {
   "cell_type": "code",
   "execution_count": 346,
   "id": "dce5d893-0f27-4164-b89a-cf7a55fc6c7a",
   "metadata": {},
   "outputs": [
    {
     "data": {
      "text/plain": [
       "0.9667"
      ]
     },
     "execution_count": 346,
     "metadata": {},
     "output_type": "execute_result"
    }
   ],
   "source": [
    "y_pred = np.zeros(df.shape[0])\n",
    "accuracy_score(df['default'],y_pred)   "
   ]
  },
  {
   "cell_type": "code",
   "execution_count": 347,
   "id": "a86dd105-5406-47a9-a9ef-79a1bb41c3cd",
   "metadata": {},
   "outputs": [],
   "source": [
    "# OR we can do this using ct & Pipeline"
   ]
  },
  {
   "cell_type": "code",
   "execution_count": 348,
   "id": "53413d30-f418-45e2-b1df-dd33ac940296",
   "metadata": {},
   "outputs": [],
   "source": [
    "X_train, X_test, y_train, y_test = train_test_split(X ,y, random_state=24, test_size=0.3)"
   ]
  },
  {
   "cell_type": "code",
   "execution_count": 352,
   "id": "d14dd829-acd6-49aa-89e0-9c225bb58aee",
   "metadata": {},
   "outputs": [],
   "source": [
    "ohe = OneHotEncoder(sparse_output=False, drop='first').set_output(transform='pandas')"
   ]
  },
  {
   "cell_type": "code",
   "execution_count": 380,
   "id": "c65d3bb7-8734-4568-b48e-e7cad834e504",
   "metadata": {},
   "outputs": [
    {
     "name": "stdout",
     "output_type": "stream",
     "text": [
      "0.9074074074074074\n"
     ]
    }
   ],
   "source": [
    "ct = make_column_transformer(('passthrough', make_column_selector(dtype_exclude=object)),\n",
    "                            (ohe, make_column_selector(dtype_include=object)),\n",
    "                             verbose_feature_names_out=False).set_output(transform='pandas')\n",
    "pipe = Pipeline([('CT', ct),('LR', lr)])\n",
    "pipe.fit(X_train, y_train)\n",
    "y_pred = pipe.predict(X_test)\n",
    "print(accuracy_score(y_test, y_pred))"
   ]
  },
  {
   "cell_type": "markdown",
   "id": "2cfbdef5-df8d-4008-939b-5c5a7e2ed374",
   "metadata": {},
   "source": [
    "# With K-Fold Cross-Validation"
   ]
  },
  {
   "cell_type": "code",
   "execution_count": 381,
   "id": "aabe1e50-df3c-4cb5-a01c-54c16fe636d4",
   "metadata": {},
   "outputs": [
    {
     "data": {
      "text/plain": [
       "0.9555555555555555"
      ]
     },
     "execution_count": 381,
     "metadata": {},
     "output_type": "execute_result"
    }
   ],
   "source": [
    "results = cross_val_score(pipe, X, y)\n",
    "results.mean()"
   ]
  },
  {
   "cell_type": "code",
   "execution_count": null,
   "id": "1cbae5c0-893a-4e2b-a972-2433f72fe0b1",
   "metadata": {},
   "outputs": [],
   "source": []
  },
  {
   "cell_type": "markdown",
   "id": "7ebf21d5-a481-4e08-9658-b7c2ef641ec7",
   "metadata": {},
   "source": [
    "# Wine DataSet"
   ]
  },
  {
   "cell_type": "code",
   "execution_count": 366,
   "id": "2fd563ec-257e-40e1-b674-58fca8755692",
   "metadata": {},
   "outputs": [
    {
     "data": {
      "text/html": [
       "<div>\n",
       "<style scoped>\n",
       "    .dataframe tbody tr th:only-of-type {\n",
       "        vertical-align: middle;\n",
       "    }\n",
       "\n",
       "    .dataframe tbody tr th {\n",
       "        vertical-align: top;\n",
       "    }\n",
       "\n",
       "    .dataframe thead th {\n",
       "        text-align: right;\n",
       "    }\n",
       "</style>\n",
       "<table border=\"1\" class=\"dataframe\">\n",
       "  <thead>\n",
       "    <tr style=\"text-align: right;\">\n",
       "      <th></th>\n",
       "      <th>Class</th>\n",
       "      <th>Alcohol</th>\n",
       "      <th>Malic</th>\n",
       "      <th>Ash</th>\n",
       "      <th>Alcalinity</th>\n",
       "      <th>Magnesium</th>\n",
       "      <th>Phenols</th>\n",
       "      <th>Flavanoids</th>\n",
       "      <th>Nonflavanoid</th>\n",
       "      <th>Proanthocyanins</th>\n",
       "      <th>Intensity</th>\n",
       "      <th>Hue</th>\n",
       "      <th>OD280</th>\n",
       "      <th>Proline</th>\n",
       "    </tr>\n",
       "  </thead>\n",
       "  <tbody>\n",
       "    <tr>\n",
       "      <th>0</th>\n",
       "      <td>1</td>\n",
       "      <td>14.23</td>\n",
       "      <td>1.71</td>\n",
       "      <td>2.43</td>\n",
       "      <td>15.6</td>\n",
       "      <td>127</td>\n",
       "      <td>2.80</td>\n",
       "      <td>3.06</td>\n",
       "      <td>0.28</td>\n",
       "      <td>2.29</td>\n",
       "      <td>5.64</td>\n",
       "      <td>1.04</td>\n",
       "      <td>3.92</td>\n",
       "      <td>1065</td>\n",
       "    </tr>\n",
       "    <tr>\n",
       "      <th>1</th>\n",
       "      <td>1</td>\n",
       "      <td>13.20</td>\n",
       "      <td>1.78</td>\n",
       "      <td>2.14</td>\n",
       "      <td>11.2</td>\n",
       "      <td>100</td>\n",
       "      <td>2.65</td>\n",
       "      <td>2.76</td>\n",
       "      <td>0.26</td>\n",
       "      <td>1.28</td>\n",
       "      <td>4.38</td>\n",
       "      <td>1.05</td>\n",
       "      <td>3.40</td>\n",
       "      <td>1050</td>\n",
       "    </tr>\n",
       "    <tr>\n",
       "      <th>2</th>\n",
       "      <td>1</td>\n",
       "      <td>13.16</td>\n",
       "      <td>2.36</td>\n",
       "      <td>2.67</td>\n",
       "      <td>18.6</td>\n",
       "      <td>101</td>\n",
       "      <td>2.80</td>\n",
       "      <td>3.24</td>\n",
       "      <td>0.30</td>\n",
       "      <td>2.81</td>\n",
       "      <td>5.68</td>\n",
       "      <td>1.03</td>\n",
       "      <td>3.17</td>\n",
       "      <td>1185</td>\n",
       "    </tr>\n",
       "    <tr>\n",
       "      <th>3</th>\n",
       "      <td>1</td>\n",
       "      <td>14.37</td>\n",
       "      <td>1.95</td>\n",
       "      <td>2.50</td>\n",
       "      <td>16.8</td>\n",
       "      <td>113</td>\n",
       "      <td>3.85</td>\n",
       "      <td>3.49</td>\n",
       "      <td>0.24</td>\n",
       "      <td>2.18</td>\n",
       "      <td>7.80</td>\n",
       "      <td>0.86</td>\n",
       "      <td>3.45</td>\n",
       "      <td>1480</td>\n",
       "    </tr>\n",
       "    <tr>\n",
       "      <th>4</th>\n",
       "      <td>1</td>\n",
       "      <td>13.24</td>\n",
       "      <td>2.59</td>\n",
       "      <td>2.87</td>\n",
       "      <td>21.0</td>\n",
       "      <td>118</td>\n",
       "      <td>2.80</td>\n",
       "      <td>2.69</td>\n",
       "      <td>0.39</td>\n",
       "      <td>1.82</td>\n",
       "      <td>4.32</td>\n",
       "      <td>1.04</td>\n",
       "      <td>2.93</td>\n",
       "      <td>735</td>\n",
       "    </tr>\n",
       "    <tr>\n",
       "      <th>...</th>\n",
       "      <td>...</td>\n",
       "      <td>...</td>\n",
       "      <td>...</td>\n",
       "      <td>...</td>\n",
       "      <td>...</td>\n",
       "      <td>...</td>\n",
       "      <td>...</td>\n",
       "      <td>...</td>\n",
       "      <td>...</td>\n",
       "      <td>...</td>\n",
       "      <td>...</td>\n",
       "      <td>...</td>\n",
       "      <td>...</td>\n",
       "      <td>...</td>\n",
       "    </tr>\n",
       "    <tr>\n",
       "      <th>173</th>\n",
       "      <td>3</td>\n",
       "      <td>13.71</td>\n",
       "      <td>5.65</td>\n",
       "      <td>2.45</td>\n",
       "      <td>20.5</td>\n",
       "      <td>95</td>\n",
       "      <td>1.68</td>\n",
       "      <td>0.61</td>\n",
       "      <td>0.52</td>\n",
       "      <td>1.06</td>\n",
       "      <td>7.70</td>\n",
       "      <td>0.64</td>\n",
       "      <td>1.74</td>\n",
       "      <td>740</td>\n",
       "    </tr>\n",
       "    <tr>\n",
       "      <th>174</th>\n",
       "      <td>3</td>\n",
       "      <td>13.40</td>\n",
       "      <td>3.91</td>\n",
       "      <td>2.48</td>\n",
       "      <td>23.0</td>\n",
       "      <td>102</td>\n",
       "      <td>1.80</td>\n",
       "      <td>0.75</td>\n",
       "      <td>0.43</td>\n",
       "      <td>1.41</td>\n",
       "      <td>7.30</td>\n",
       "      <td>0.70</td>\n",
       "      <td>1.56</td>\n",
       "      <td>750</td>\n",
       "    </tr>\n",
       "    <tr>\n",
       "      <th>175</th>\n",
       "      <td>3</td>\n",
       "      <td>13.27</td>\n",
       "      <td>4.28</td>\n",
       "      <td>2.26</td>\n",
       "      <td>20.0</td>\n",
       "      <td>120</td>\n",
       "      <td>1.59</td>\n",
       "      <td>0.69</td>\n",
       "      <td>0.43</td>\n",
       "      <td>1.35</td>\n",
       "      <td>10.20</td>\n",
       "      <td>0.59</td>\n",
       "      <td>1.56</td>\n",
       "      <td>835</td>\n",
       "    </tr>\n",
       "    <tr>\n",
       "      <th>176</th>\n",
       "      <td>3</td>\n",
       "      <td>13.17</td>\n",
       "      <td>2.59</td>\n",
       "      <td>2.37</td>\n",
       "      <td>20.0</td>\n",
       "      <td>120</td>\n",
       "      <td>1.65</td>\n",
       "      <td>0.68</td>\n",
       "      <td>0.53</td>\n",
       "      <td>1.46</td>\n",
       "      <td>9.30</td>\n",
       "      <td>0.60</td>\n",
       "      <td>1.62</td>\n",
       "      <td>840</td>\n",
       "    </tr>\n",
       "    <tr>\n",
       "      <th>177</th>\n",
       "      <td>3</td>\n",
       "      <td>14.13</td>\n",
       "      <td>4.10</td>\n",
       "      <td>2.74</td>\n",
       "      <td>24.5</td>\n",
       "      <td>96</td>\n",
       "      <td>2.05</td>\n",
       "      <td>0.76</td>\n",
       "      <td>0.56</td>\n",
       "      <td>1.35</td>\n",
       "      <td>9.20</td>\n",
       "      <td>0.61</td>\n",
       "      <td>1.60</td>\n",
       "      <td>560</td>\n",
       "    </tr>\n",
       "  </tbody>\n",
       "</table>\n",
       "<p>178 rows × 14 columns</p>\n",
       "</div>"
      ],
      "text/plain": [
       "     Class  Alcohol  Malic   Ash  Alcalinity  Magnesium  Phenols  Flavanoids  \\\n",
       "0        1    14.23   1.71  2.43        15.6        127     2.80        3.06   \n",
       "1        1    13.20   1.78  2.14        11.2        100     2.65        2.76   \n",
       "2        1    13.16   2.36  2.67        18.6        101     2.80        3.24   \n",
       "3        1    14.37   1.95  2.50        16.8        113     3.85        3.49   \n",
       "4        1    13.24   2.59  2.87        21.0        118     2.80        2.69   \n",
       "..     ...      ...    ...   ...         ...        ...      ...         ...   \n",
       "173      3    13.71   5.65  2.45        20.5         95     1.68        0.61   \n",
       "174      3    13.40   3.91  2.48        23.0        102     1.80        0.75   \n",
       "175      3    13.27   4.28  2.26        20.0        120     1.59        0.69   \n",
       "176      3    13.17   2.59  2.37        20.0        120     1.65        0.68   \n",
       "177      3    14.13   4.10  2.74        24.5         96     2.05        0.76   \n",
       "\n",
       "     Nonflavanoid  Proanthocyanins  Intensity   Hue  OD280  Proline  \n",
       "0            0.28             2.29       5.64  1.04   3.92     1065  \n",
       "1            0.26             1.28       4.38  1.05   3.40     1050  \n",
       "2            0.30             2.81       5.68  1.03   3.17     1185  \n",
       "3            0.24             2.18       7.80  0.86   3.45     1480  \n",
       "4            0.39             1.82       4.32  1.04   2.93      735  \n",
       "..            ...              ...        ...   ...    ...      ...  \n",
       "173          0.52             1.06       7.70  0.64   1.74      740  \n",
       "174          0.43             1.41       7.30  0.70   1.56      750  \n",
       "175          0.43             1.35      10.20  0.59   1.56      835  \n",
       "176          0.53             1.46       9.30  0.60   1.62      840  \n",
       "177          0.56             1.35       9.20  0.61   1.60      560  \n",
       "\n",
       "[178 rows x 14 columns]"
      ]
     },
     "execution_count": 366,
     "metadata": {},
     "output_type": "execute_result"
    }
   ],
   "source": [
    "wine = pd.read_csv('wine.csv')\n",
    "wine"
   ]
  },
  {
   "cell_type": "code",
   "execution_count": 370,
   "id": "a890497c-7425-498b-bc07-2a5855625cb6",
   "metadata": {},
   "outputs": [],
   "source": [
    "y = wine['Class']\n",
    "X = wine.drop('Class', axis=1)"
   ]
  },
  {
   "cell_type": "code",
   "execution_count": 371,
   "id": "2fd5cf29-9e30-42e4-a794-3a5250630494",
   "metadata": {},
   "outputs": [],
   "source": [
    "X_train, X_test, y_train, y_test = train_test_split(X ,y, random_state=24, test_size=0.3)"
   ]
  },
  {
   "cell_type": "code",
   "execution_count": 372,
   "id": "7c2fdfaf-a085-410a-aa7a-c22588ebd08f",
   "metadata": {},
   "outputs": [],
   "source": [
    "lr = LogisticRegression()\n",
    "lr.fit(X_train,y_train)\n",
    "y_pred = lr.predict(X_test)"
   ]
  },
  {
   "cell_type": "code",
   "execution_count": 373,
   "id": "72d4b2be-3040-470e-b758-e911ecb2d7c9",
   "metadata": {},
   "outputs": [
    {
     "data": {
      "text/plain": [
       "0.9074074074074074"
      ]
     },
     "execution_count": 373,
     "metadata": {},
     "output_type": "execute_result"
    }
   ],
   "source": [
    "accuracy_score(y_test,y_pred)"
   ]
  },
  {
   "cell_type": "code",
   "execution_count": null,
   "id": "235f60a2-a0b1-4574-b5d3-0596d2361d2d",
   "metadata": {},
   "outputs": [],
   "source": []
  }
 ],
 "metadata": {
  "kernelspec": {
   "display_name": "Python 3 (ipykernel)",
   "language": "python",
   "name": "python3"
  },
  "language_info": {
   "codemirror_mode": {
    "name": "ipython",
    "version": 3
   },
   "file_extension": ".py",
   "mimetype": "text/x-python",
   "name": "python",
   "nbconvert_exporter": "python",
   "pygments_lexer": "ipython3",
   "version": "3.12.4"
  }
 },
 "nbformat": 4,
 "nbformat_minor": 5
}
