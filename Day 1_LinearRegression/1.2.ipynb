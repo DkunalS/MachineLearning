{
 "cells": [
  {
   "cell_type": "code",
   "execution_count": 1,
   "id": "ec9fbd82-6c51-454b-b9da-b949d90f9afc",
   "metadata": {},
   "outputs": [],
   "source": [
    "import numpy as np "
   ]
  },
  {
   "cell_type": "code",
   "execution_count": 36,
   "id": "73a0c354-33c2-4c79-ba8c-5925a4a1ce4a",
   "metadata": {},
   "outputs": [
    {
     "data": {
      "text/plain": [
       "array([ 2,  5,  7,  8,  9, 10, 23, 45])"
      ]
     },
     "execution_count": 36,
     "metadata": {},
     "output_type": "execute_result"
    }
   ],
   "source": [
    "x = np.array([2, 5, 7, 8, 9, 10, 23 , 45])\n",
    "y = np.array([13, 15, 20, 34, 36, 56, 66, 78])\n",
    "x"
   ]
  },
  {
   "cell_type": "code",
   "execution_count": null,
   "id": "41ab8eaf-6e61-4b03-b67a-1ab059fede7a",
   "metadata": {},
   "outputs": [],
   "source": [
    "# Method of Least Square"
   ]
  },
  {
   "cell_type": "code",
   "execution_count": 31,
   "id": "1553f635-c6ed-4b79-9228-6ae98f464547",
   "metadata": {},
   "outputs": [
    {
     "name": "stdout",
     "output_type": "stream",
     "text": [
      "b1 is intercept : 1.5031881454872025\n",
      "b0 is coefficient : 19.269061517736866\n"
     ]
    }
   ],
   "source": [
    "x_sum = np.sum(x) \n",
    "y_sum = np.sum(y)\n",
    "x_sum_y_sum = x_sum*y_sum\n",
    "xy_sum= np.sum(x*y)   # np.dot(x,y)\n",
    "\n",
    "b1 = ((x_sum_y_sum/len(x))- xy_sum)/((np.square(x_sum) / len(x)) - np.square(x).sum())\n",
    "print(\"b1 is intercept :\",b1)\n",
    "\n",
    "b0 = (y_sum - b1* x_sum)/len(x)\n",
    "print(\"b0 is coefficient :\",b0)"
   ]
  },
  {
   "cell_type": "code",
   "execution_count": 32,
   "id": "edcd209f-b362-492a-9a31-ae3906911351",
   "metadata": {
    "scrolled": true
   },
   "outputs": [
    {
     "data": {
      "text/plain": [
       "(8,)"
      ]
     },
     "execution_count": 32,
     "metadata": {},
     "output_type": "execute_result"
    }
   ],
   "source": [
    "x.shape"
   ]
  },
  {
   "cell_type": "code",
   "execution_count": null,
   "id": "1d37f403-dfad-44a0-a5ad-2d836849c15f",
   "metadata": {},
   "outputs": [],
   "source": [
    "# Least square using linear regression "
   ]
  },
  {
   "cell_type": "code",
   "execution_count": 42,
   "id": "f6e9eec0-2cbc-41c2-a6ff-17ed97427281",
   "metadata": {},
   "outputs": [
    {
     "data": {
      "text/plain": [
       "array([[ 2],\n",
       "       [ 5],\n",
       "       [ 7],\n",
       "       [ 8],\n",
       "       [ 9],\n",
       "       [10],\n",
       "       [23],\n",
       "       [45]])"
      ]
     },
     "execution_count": 42,
     "metadata": {},
     "output_type": "execute_result"
    }
   ],
   "source": [
    "from sklearn.linear_model import LinearRegression \n",
    "lr = LinearRegression()       # It is class \n",
    "x.reshape(-1,1)\n",
    "\n",
    "\n",
    "# lr.fit(x.reshape(-1,1),y)     # Here we are reshaping the x array and converting into matrix"
   ]
  },
  {
   "cell_type": "code",
   "execution_count": 41,
   "id": "44ef8b24-67b8-43a9-be33-4fd1365d3fa3",
   "metadata": {},
   "outputs": [
    {
     "name": "stdout",
     "output_type": "stream",
     "text": [
      "19.26906151773686 [1.50318815]\n"
     ]
    }
   ],
   "source": [
    "print(lr.intercept_,lr.coef_)"
   ]
  },
  {
   "cell_type": "code",
   "execution_count": null,
   "id": "fc6f91c5-1107-400e-8cb8-0d20f4d380cf",
   "metadata": {},
   "outputs": [],
   "source": [
    "# R2 Score\n",
    "# 0 <= R2 <= 1 is applcable only for training data\n",
    "\n",
    "# y_pred = lr.predit(X_train) # Training set R2 score is always between 0-1\n",
    "# 0 = R2_score(y_train, y_pred)\n",
    "\n"
   ]
  }
 ],
 "metadata": {
  "kernelspec": {
   "display_name": "Python 3 (ipykernel)",
   "language": "python",
   "name": "python3"
  },
  "language_info": {
   "codemirror_mode": {
    "name": "ipython",
    "version": 3
   },
   "file_extension": ".py",
   "mimetype": "text/x-python",
   "name": "python",
   "nbconvert_exporter": "python",
   "pygments_lexer": "ipython3",
   "version": "3.12.4"
  }
 },
 "nbformat": 4,
 "nbformat_minor": 5
}
