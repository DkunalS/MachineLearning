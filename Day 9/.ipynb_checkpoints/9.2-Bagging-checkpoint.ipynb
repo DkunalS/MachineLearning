{
 "cells": [
  {
   "cell_type": "markdown",
   "id": "8ce9c459-82b9-4e91-b009-e87f19daa033",
   "metadata": {},
   "source": [
    "### *Logistic Regression is a Classification Model"
   ]
  },
  {
   "cell_type": "markdown",
   "id": "6e0e5a13-956c-4bca-9d81-4fe0b7d78b2b",
   "metadata": {},
   "source": [
    "# BAGGING  :  Bootstrap AGGrigatING \n",
    "- Simple Random Sampling With Out Replacement (SRSWOR)  - Eg:- total 10 --> 1/10, 5/9, 9/8, 6/7\n",
    "- BOOTSTRAP : Simple Random Sampling With Replacement (SRSWR) - Eg:- total 10 --> 1/10, 5/10, 9/10, 6/10\n",
    "- If you do not specify Estimator then bydefault it is `DecisionTree`\n",
    "- Obs or rows : `n_samples`\n",
    "- Columns or Variabel : `n_feature`"
   ]
  },
  {
   "cell_type": "code",
   "execution_count": 16,
   "id": "0921fabb-15b0-4faf-9cdb-98dcaeff091c",
   "metadata": {},
   "outputs": [],
   "source": [
    "from sklearn.ensemble import BaggingClassifier\n",
    "from sklearn.tree import DecisionTreeClassifier\n",
    "from sklearn.svm import SVC\n",
    "\n",
    "import pandas as pd\n",
    "import numpy as np\n",
    "from sklearn.model_selection import train_test_split\n",
    "from sklearn.metrics import accuracy_score\n",
    "\n",
    "import warnings\n",
    "warnings.filterwarnings('ignore')"
   ]
  },
  {
   "cell_type": "code",
   "execution_count": 4,
   "id": "506ecc20-db1d-4429-9826-bf943c043ea4",
   "metadata": {},
   "outputs": [
    {
     "data": {
      "text/html": [
       "<div>\n",
       "<style scoped>\n",
       "    .dataframe tbody tr th:only-of-type {\n",
       "        vertical-align: middle;\n",
       "    }\n",
       "\n",
       "    .dataframe tbody tr th {\n",
       "        vertical-align: top;\n",
       "    }\n",
       "\n",
       "    .dataframe thead th {\n",
       "        text-align: right;\n",
       "    }\n",
       "</style>\n",
       "<table border=\"1\" class=\"dataframe\">\n",
       "  <thead>\n",
       "    <tr style=\"text-align: right;\">\n",
       "      <th></th>\n",
       "      <th>Clump</th>\n",
       "      <th>UniCell_Size</th>\n",
       "      <th>Uni_CellShape</th>\n",
       "      <th>MargAdh</th>\n",
       "      <th>SEpith</th>\n",
       "      <th>BareN</th>\n",
       "      <th>BChromatin</th>\n",
       "      <th>NoemN</th>\n",
       "      <th>Mitoses</th>\n",
       "      <th>Class</th>\n",
       "    </tr>\n",
       "    <tr>\n",
       "      <th>Code</th>\n",
       "      <th></th>\n",
       "      <th></th>\n",
       "      <th></th>\n",
       "      <th></th>\n",
       "      <th></th>\n",
       "      <th></th>\n",
       "      <th></th>\n",
       "      <th></th>\n",
       "      <th></th>\n",
       "      <th></th>\n",
       "    </tr>\n",
       "  </thead>\n",
       "  <tbody>\n",
       "    <tr>\n",
       "      <th>61634</th>\n",
       "      <td>5</td>\n",
       "      <td>4</td>\n",
       "      <td>3</td>\n",
       "      <td>1</td>\n",
       "      <td>2</td>\n",
       "      <td>2</td>\n",
       "      <td>2</td>\n",
       "      <td>3</td>\n",
       "      <td>1</td>\n",
       "      <td>Benign</td>\n",
       "    </tr>\n",
       "    <tr>\n",
       "      <th>63375</th>\n",
       "      <td>9</td>\n",
       "      <td>1</td>\n",
       "      <td>2</td>\n",
       "      <td>6</td>\n",
       "      <td>4</td>\n",
       "      <td>10</td>\n",
       "      <td>7</td>\n",
       "      <td>7</td>\n",
       "      <td>2</td>\n",
       "      <td>Malignant</td>\n",
       "    </tr>\n",
       "    <tr>\n",
       "      <th>76389</th>\n",
       "      <td>10</td>\n",
       "      <td>4</td>\n",
       "      <td>7</td>\n",
       "      <td>2</td>\n",
       "      <td>2</td>\n",
       "      <td>8</td>\n",
       "      <td>6</td>\n",
       "      <td>1</td>\n",
       "      <td>1</td>\n",
       "      <td>Malignant</td>\n",
       "    </tr>\n",
       "    <tr>\n",
       "      <th>95719</th>\n",
       "      <td>6</td>\n",
       "      <td>10</td>\n",
       "      <td>10</td>\n",
       "      <td>10</td>\n",
       "      <td>8</td>\n",
       "      <td>10</td>\n",
       "      <td>7</td>\n",
       "      <td>10</td>\n",
       "      <td>7</td>\n",
       "      <td>Malignant</td>\n",
       "    </tr>\n",
       "    <tr>\n",
       "      <th>128059</th>\n",
       "      <td>1</td>\n",
       "      <td>1</td>\n",
       "      <td>1</td>\n",
       "      <td>1</td>\n",
       "      <td>2</td>\n",
       "      <td>5</td>\n",
       "      <td>5</td>\n",
       "      <td>1</td>\n",
       "      <td>1</td>\n",
       "      <td>Benign</td>\n",
       "    </tr>\n",
       "  </tbody>\n",
       "</table>\n",
       "</div>"
      ],
      "text/plain": [
       "        Clump  UniCell_Size  Uni_CellShape  MargAdh  SEpith  BareN  \\\n",
       "Code                                                                 \n",
       "61634       5             4              3        1       2      2   \n",
       "63375       9             1              2        6       4     10   \n",
       "76389      10             4              7        2       2      8   \n",
       "95719       6            10             10       10       8     10   \n",
       "128059      1             1              1        1       2      5   \n",
       "\n",
       "        BChromatin  NoemN  Mitoses      Class  \n",
       "Code                                           \n",
       "61634            2      3        1     Benign  \n",
       "63375            7      7        2  Malignant  \n",
       "76389            6      1        1  Malignant  \n",
       "95719            7     10        7  Malignant  \n",
       "128059           5      1        1     Benign  "
      ]
     },
     "execution_count": 4,
     "metadata": {},
     "output_type": "execute_result"
    }
   ],
   "source": [
    "cancer = pd.read_csv('BreastCancer.csv', index_col=0)\n",
    "cancer.head(5)"
   ]
  },
  {
   "cell_type": "code",
   "execution_count": 10,
   "id": "e68c504b-b99e-4183-846f-56d1343343b8",
   "metadata": {},
   "outputs": [],
   "source": [
    "X = cancer.drop(columns='Class')\n",
    "y = cancer.Class\n",
    "X_train, X_test, y_train, y_test = train_test_split(X,y, random_state=24, test_size=0.3, stratify=y)"
   ]
  },
  {
   "cell_type": "code",
   "execution_count": 18,
   "id": "03f5c945-7587-4758-ae38-f624e36436ff",
   "metadata": {},
   "outputs": [
    {
     "name": "stdout",
     "output_type": "stream",
     "text": [
      "0.9714285714285714\n"
     ]
    }
   ],
   "source": [
    "# Bagging with Logistic Regression\n",
    "# Logistic Regression is the Classification Algorithm \n",
    "log = LogisticRegression(random_state=24)\n",
    "bagg = BaggingClassifier(estimator= log, random_state=24)\n",
    "bagg.fit(X_train, y_train)\n",
    "y_pred = bagg.predict(X_test)\n",
    "print(accuracy_score(y_test, y_pred))"
   ]
  },
  {
   "cell_type": "code",
   "execution_count": 19,
   "id": "c651b73a-0ed3-4b12-9207-2967b5f4a23c",
   "metadata": {},
   "outputs": [
    {
     "name": "stdout",
     "output_type": "stream",
     "text": [
      "0.9714285714285714\n"
     ]
    }
   ],
   "source": [
    "# Bagging with SVM\n",
    "svm = SVC(random_state=24)\n",
    "bagg = BaggingClassifier(estimator= svm, random_state=24)\n",
    "bagg.fit(X_train, y_train)\n",
    "y_pred = bagg.predict(X_test)\n",
    "print(accuracy_score(y_test, y_pred))"
   ]
  },
  {
   "cell_type": "code",
   "execution_count": null,
   "id": "36be1e8d-fa62-45a5-873b-2a77189a6fcf",
   "metadata": {},
   "outputs": [],
   "source": []
  }
 ],
 "metadata": {
  "kernelspec": {
   "display_name": "Python 3 (ipykernel)",
   "language": "python",
   "name": "python3"
  },
  "language_info": {
   "codemirror_mode": {
    "name": "ipython",
    "version": 3
   },
   "file_extension": ".py",
   "mimetype": "text/x-python",
   "name": "python",
   "nbconvert_exporter": "python",
   "pygments_lexer": "ipython3",
   "version": "3.12.7"
  }
 },
 "nbformat": 4,
 "nbformat_minor": 5
}
